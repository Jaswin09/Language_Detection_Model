{
  "nbformat": 4,
  "nbformat_minor": 0,
  "metadata": {
    "colab": {
      "name": "LanguageDet_NLP.ipynb",
      "provenance": []
    },
    "kernelspec": {
      "name": "python3",
      "display_name": "Python 3"
    },
    "language_info": {
      "name": "python"
    }
  },
  "cells": [
    {
      "cell_type": "code",
      "metadata": {
        "colab": {
          "base_uri": "https://localhost:8080/"
        },
        "id": "wZFTwheK46Ru",
        "outputId": "25357aed-6d5a-4c36-9737-501e3c1ae132"
      },
      "source": [
        "from google.colab import drive\n",
        "drive.mount('/content/drive',force_remount=True)\n",
        "!ls \"/content/drive/My Drive/languages\""
      ],
      "execution_count": 1,
      "outputs": [
        {
          "output_type": "stream",
          "text": [
            "Mounted at /content/drive\n",
            "'Language Detection.csv'\n"
          ],
          "name": "stdout"
        }
      ]
    },
    {
      "cell_type": "code",
      "metadata": {
        "id": "pAHgIqMG-wbv"
      },
      "source": [
        "import pandas as pd\n",
        "import numpy as np\n",
        "import re\n",
        "import seaborn as sns\n",
        "import matplotlib.pyplot as plt\n",
        "import warnings\n",
        "warnings.simplefilter(\"ignore\")"
      ],
      "execution_count": 2,
      "outputs": []
    },
    {
      "cell_type": "code",
      "metadata": {
        "id": "u4LTUVsS_A8E"
      },
      "source": [
        "data = pd.read_csv(\"/content/drive/My Drive/languages/Language Detection.csv\")"
      ],
      "execution_count": 3,
      "outputs": []
    },
    {
      "cell_type": "code",
      "metadata": {
        "colab": {
          "base_uri": "https://localhost:8080/",
          "height": 402
        },
        "id": "XVJ7BTbA_Lbz",
        "outputId": "b9cfebf0-0a7d-4ba7-9fdd-13265f8672b1"
      },
      "source": [
        "data"
      ],
      "execution_count": 4,
      "outputs": [
        {
          "output_type": "execute_result",
          "data": {
            "text/html": [
              "<div>\n",
              "<style scoped>\n",
              "    .dataframe tbody tr th:only-of-type {\n",
              "        vertical-align: middle;\n",
              "    }\n",
              "\n",
              "    .dataframe tbody tr th {\n",
              "        vertical-align: top;\n",
              "    }\n",
              "\n",
              "    .dataframe thead th {\n",
              "        text-align: right;\n",
              "    }\n",
              "</style>\n",
              "<table border=\"1\" class=\"dataframe\">\n",
              "  <thead>\n",
              "    <tr style=\"text-align: right;\">\n",
              "      <th></th>\n",
              "      <th>Text</th>\n",
              "      <th>Language</th>\n",
              "    </tr>\n",
              "  </thead>\n",
              "  <tbody>\n",
              "    <tr>\n",
              "      <th>0</th>\n",
              "      <td>Nature, in the broadest sense, is the natural...</td>\n",
              "      <td>English</td>\n",
              "    </tr>\n",
              "    <tr>\n",
              "      <th>1</th>\n",
              "      <td>\"Nature\" can refer to the phenomena of the phy...</td>\n",
              "      <td>English</td>\n",
              "    </tr>\n",
              "    <tr>\n",
              "      <th>2</th>\n",
              "      <td>The study of nature is a large, if not the onl...</td>\n",
              "      <td>English</td>\n",
              "    </tr>\n",
              "    <tr>\n",
              "      <th>3</th>\n",
              "      <td>Although humans are part of nature, human acti...</td>\n",
              "      <td>English</td>\n",
              "    </tr>\n",
              "    <tr>\n",
              "      <th>4</th>\n",
              "      <td>[1] The word nature is borrowed from the Old F...</td>\n",
              "      <td>English</td>\n",
              "    </tr>\n",
              "    <tr>\n",
              "      <th>...</th>\n",
              "      <td>...</td>\n",
              "      <td>...</td>\n",
              "    </tr>\n",
              "    <tr>\n",
              "      <th>10332</th>\n",
              "      <td>ನಿಮ್ಮ ತಪ್ಪು ಏನು ಬಂದಿದೆಯೆಂದರೆ ಆ ದಿನದಿಂದ ನಿಮಗೆ ಒ...</td>\n",
              "      <td>Kannada</td>\n",
              "    </tr>\n",
              "    <tr>\n",
              "      <th>10333</th>\n",
              "      <td>ನಾರ್ಸಿಸಾ ತಾನು ಮೊದಲಿಗೆ ಹೆಣಗಾಡುತ್ತಿದ್ದ ಮಾರ್ಗಗಳನ್...</td>\n",
              "      <td>Kannada</td>\n",
              "    </tr>\n",
              "    <tr>\n",
              "      <th>10334</th>\n",
              "      <td>ಹೇಗೆ ' ನಾರ್ಸಿಸಿಸಮ್ ಈಗ ಮರಿಯನ್ ಅವರಿಗೆ ಸಂಭವಿಸಿದ ಎ...</td>\n",
              "      <td>Kannada</td>\n",
              "    </tr>\n",
              "    <tr>\n",
              "      <th>10335</th>\n",
              "      <td>ಅವಳು ಈಗ ಹೆಚ್ಚು ಚಿನ್ನದ ಬ್ರೆಡ್ ಬಯಸುವುದಿಲ್ಲ ಎಂದು ...</td>\n",
              "      <td>Kannada</td>\n",
              "    </tr>\n",
              "    <tr>\n",
              "      <th>10336</th>\n",
              "      <td>ಟೆರ್ರಿ ನೀವು ನಿಜವಾಗಿಯೂ ಆ ದೇವದೂತನಂತೆ ಸ್ವಲ್ಪ ಕಾಣು...</td>\n",
              "      <td>Kannada</td>\n",
              "    </tr>\n",
              "  </tbody>\n",
              "</table>\n",
              "<p>10337 rows × 2 columns</p>\n",
              "</div>"
            ],
            "text/plain": [
              "                                                    Text Language\n",
              "0       Nature, in the broadest sense, is the natural...  English\n",
              "1      \"Nature\" can refer to the phenomena of the phy...  English\n",
              "2      The study of nature is a large, if not the onl...  English\n",
              "3      Although humans are part of nature, human acti...  English\n",
              "4      [1] The word nature is borrowed from the Old F...  English\n",
              "...                                                  ...      ...\n",
              "10332  ನಿಮ್ಮ ತಪ್ಪು ಏನು ಬಂದಿದೆಯೆಂದರೆ ಆ ದಿನದಿಂದ ನಿಮಗೆ ಒ...  Kannada\n",
              "10333  ನಾರ್ಸಿಸಾ ತಾನು ಮೊದಲಿಗೆ ಹೆಣಗಾಡುತ್ತಿದ್ದ ಮಾರ್ಗಗಳನ್...  Kannada\n",
              "10334  ಹೇಗೆ ' ನಾರ್ಸಿಸಿಸಮ್ ಈಗ ಮರಿಯನ್ ಅವರಿಗೆ ಸಂಭವಿಸಿದ ಎ...  Kannada\n",
              "10335  ಅವಳು ಈಗ ಹೆಚ್ಚು ಚಿನ್ನದ ಬ್ರೆಡ್ ಬಯಸುವುದಿಲ್ಲ ಎಂದು ...  Kannada\n",
              "10336  ಟೆರ್ರಿ ನೀವು ನಿಜವಾಗಿಯೂ ಆ ದೇವದೂತನಂತೆ ಸ್ವಲ್ಪ ಕಾಣು...  Kannada\n",
              "\n",
              "[10337 rows x 2 columns]"
            ]
          },
          "metadata": {
            "tags": []
          },
          "execution_count": 4
        }
      ]
    },
    {
      "cell_type": "code",
      "metadata": {
        "colab": {
          "base_uri": "https://localhost:8080/"
        },
        "id": "47r6-JK2_Mig",
        "outputId": "9ec17472-8f0e-405b-8594-d19ee2028ebc"
      },
      "source": [
        "data['Language'].value_counts()"
      ],
      "execution_count": 5,
      "outputs": [
        {
          "output_type": "execute_result",
          "data": {
            "text/plain": [
              "English       1385\n",
              "French        1014\n",
              "Spanish        819\n",
              "Portugeese     739\n",
              "Italian        698\n",
              "Russian        692\n",
              "Sweedish       676\n",
              "Malayalam      594\n",
              "Dutch          546\n",
              "Arabic         536\n",
              "Turkish        474\n",
              "German         470\n",
              "Tamil          469\n",
              "Danish         428\n",
              "Kannada        369\n",
              "Greek          365\n",
              "Hindi           63\n",
              "Name: Language, dtype: int64"
            ]
          },
          "metadata": {
            "tags": []
          },
          "execution_count": 5
        }
      ]
    },
    {
      "cell_type": "code",
      "metadata": {
        "id": "ZVawdUs6_QIW"
      },
      "source": [
        "X = data['Text']\n",
        "Y = data['Language']"
      ],
      "execution_count": 6,
      "outputs": []
    },
    {
      "cell_type": "code",
      "metadata": {
        "id": "vFcFg1x5_jik"
      },
      "source": [
        "from sklearn.preprocessing import LabelEncoder\n",
        "le = LabelEncoder()\n",
        "y = le.fit_transform(Y)\n"
      ],
      "execution_count": 7,
      "outputs": []
    },
    {
      "cell_type": "code",
      "metadata": {
        "colab": {
          "base_uri": "https://localhost:8080/"
        },
        "id": "JPY2Fwk3_wOn",
        "outputId": "837a5745-8792-4a6a-db7b-be85db9a4f75"
      },
      "source": [
        "y"
      ],
      "execution_count": 8,
      "outputs": [
        {
          "output_type": "execute_result",
          "data": {
            "text/plain": [
              "array([3, 3, 3, ..., 9, 9, 9])"
            ]
          },
          "metadata": {
            "tags": []
          },
          "execution_count": 8
        }
      ]
    },
    {
      "cell_type": "code",
      "metadata": {
        "id": "R3W4PGxr_w7T"
      },
      "source": [
        "data_list=[]\n",
        "for i in X:\n",
        "  i = re.sub(r'[!@#$(),n\"%^*?:;~`0-9]', ' ', i)\n",
        "  i = re.sub(r'[[]]', ' ', i)\n",
        "  i = i.lower()\n",
        "  data_list.append(i)"
      ],
      "execution_count": 9,
      "outputs": []
    },
    {
      "cell_type": "code",
      "metadata": {
        "colab": {
          "base_uri": "https://localhost:8080/"
        },
        "id": "XrYbamZ3AY9U",
        "outputId": "a9a6208e-c5c1-4f8f-b80b-c81fd26cc121"
      },
      "source": [
        "data_list"
      ],
      "execution_count": 10,
      "outputs": [
        {
          "output_type": "execute_result",
          "data": {
            "text/plain": [
              "[' nature  i  the broadest se se  is the  atural  physical  material world or u iverse.',\n",
              " ' nature  ca  refer to the phe ome a of the physical world  a d also to life i  ge eral.',\n",
              " 'the study of  ature is a large  if  ot the o ly  part of scie ce.',\n",
              " 'although huma s are part of  ature  huma  activity is ofte  u derstood as a separate category from other  atural phe ome a.',\n",
              " '[ ] the word  ature is borrowed from the old fre ch  ature a d is derived from the lati  word  atura  or  esse tial qualities  i  ate dispositio    a d i  a cie t times  literally mea t  birth .',\n",
              " '[ ] i  a cie t philosophy   atura is mostly used as the lati  tra slatio  of the greek word physis  φύσις   which origi ally related to the i tri sic characteristics that pla ts  a imals  a d other features of the world develop of their ow  accord.',\n",
              " '[ ][ ] \\nthe co cept of  ature as a whole  the physical u iverse  is o e of several expa sio s of the origi al  otio  [ ] it bega  with certai  core applicatio s of the word φύσις by pre-socratic philosophers  though this word had a dy amic dime sio  the   especially for heraclitus   a d has steadily gai ed curre cy ever si ce.',\n",
              " 'duri g the adve t of moder  scie tific method i  the last several ce turies   ature became the passive reality  orga ized a d moved by divi e laws.',\n",
              " '[ ][ ] with the i dustrial revolutio    ature i creasi gly became see  as the part of reality deprived from i te tio al i terve tio \\xa0  it was he ce co sidered as sacred by some traditio s  rousseau  america  tra sce de talism  or a mere decorum for divi e provide ce or huma  history  hegel  marx .',\n",
              " 'however  a vitalist visio  of  ature  closer to the presocratic o e  got rebor  at the same time  especially after charles darwi .',\n",
              " '[ ] withi  the various uses of the word today    ature  ofte  refers to geology a d wildlife.',\n",
              " 'nature ca  refer to the ge eral realm of livi g pla ts a d a imals  a d i  some cases to the processes associated with i a imate objects—the way that particular types of thi gs exist a d cha ge of their ow  accord  such as the weather a d geology of the earth.',\n",
              " 'it is ofte  take  to mea  the   atural e viro me t  or wilder ess—wild a imals  rocks  forest  a d i  ge eral those thi gs that have  ot bee  substa tially altered by huma  i terve tio   or which persist despite huma  i terve tio .',\n",
              " 'for example  ma ufactured objects a d huma  i teractio  ge erally are  ot co sidered part of  ature  u less qualified as  for example   huma   ature  or  the whole of  ature .',\n",
              " 'this more traditio al co cept of  atural thi gs that ca  still be fou d today implies a disti ctio  betwee  the  atural a d the artificial  with the artificial bei g u derstood as that which has bee  brought i to bei g by a huma  co scious ess or a huma  mi d.',\n",
              " 'depe di g o  the particular co text  the term   atural  might also be disti guished from the u  atural or the super atural.',\n",
              " '[ ] earth is the o ly pla et k ow  to support life  a d its  atural features are the subject of ma y fields of scie tific research.',\n",
              " 'withi  the solar system  it is third closest to the su   it is the largest terrestrial pla et a d the fifth largest overall.',\n",
              " 'its most promi e t climatic features are its two large polar regio s  two relatively  arrow temperate zo es  a d a wide equatorial tropical to subtropical regio .',\n",
              " '[ ] precipitatio  varies widely with locatio   from several metres of water per year to less tha  a millimetre.',\n",
              " \"   perce t of the earth's surface is covered by salt-water ocea s.\",\n",
              " 'the remai der co sists of co ti e ts a d isla ds  with most of the i habited la d i  the norther  hemisphere.',\n",
              " 'earth has evolved through geological a d biological processes that have left traces of the origi al co ditio s.',\n",
              " 'the outer surface is divided i to several gradually migrati g tecto ic plates.',\n",
              " 'the i terior remai s active  with a thick layer of plastic ma tle a d a  iro -filled core that ge erates a mag etic field.',\n",
              " 'this iro  core is composed of a solid i  er phase  a d a fluid outer phase.',\n",
              " 'co vective motio  i  the core ge erates electric curre ts through dy amo actio   a d these  i  tur   ge erate the geomag etic field.',\n",
              " 'the atmospheric co ditio s have bee  sig ifica tly altered from the origi al co ditio s by the prese ce of life-forms [ ] which create a  ecological bala ce that stabilizes the surface co ditio s.',\n",
              " 'despite the wide regio al variatio s i  climate by latitude a d other geographic factors  the lo g-term average global climate is quite stable duri g i terglacial periods [ ] a d variatio s of a degree or two of average global temperature have historically had major effects o  the ecological bala ce  a d o  the actual geography of the earth.',\n",
              " '[  ][  ] geology is the scie ce a d study of the solid a d liquid matter that co stitutes the earth.',\n",
              " 'the field of geology e compasses the study of the compositio   structure  physical properties  dy amics  a d history of earth materials  a d the processes by which they are formed  moved  a d cha ged.',\n",
              " 'the field is a major academic discipli e  a d is also importa t for mi eral a d hydrocarbo  extractio   k owledge about a d mitigatio  of  atural hazards  some geotech ical e gi eeri g fields  a d u dersta di g past climates a d e viro me ts.',\n",
              " 'the geology of a  area evolves through time as rock u its are deposited a d i serted a d deformatio al processes cha ge their shapes a d locatio s.',\n",
              " 'rock u its are first emplaced either by depositio  o to the surface or i trude i to the overlyi g rock.',\n",
              " 'depositio  ca  occur whe  sedime ts settle o to the surface of the earth a d later lithify i to sedime tary rock  or whe  as volca ic material such as volca ic ash or lava flows  bla ket the surface.',\n",
              " 'ig eous i trusio s such as batholiths  laccoliths  dikes  a d sills  push upwards i to the overlyi g rock  a d crystallize as they i trude.',\n",
              " 'after the i itial seque ce of rocks has bee  deposited  the rock u its ca  be deformed a d/or metamorphosed.',\n",
              " 'deformatio  typically occurs as a result of horizo tal shorte i g  horizo tal exte sio   or side-to-side  strike-slip  motio .',\n",
              " 'these structural regimes broadly relate to co verge t bou daries  diverge t bou daries  a d tra sform bou daries  respectively  betwee  tecto ic plates.',\n",
              " 'earth is estimated to have formed  .  \\xa0billio  years ago from the solar  ebula  alo g with the su  a d other pla ets.',\n",
              " '[  ] the moo  formed roughly   \\xa0millio  years later.',\n",
              " 'i itially molte   the outer layer of the earth cooled  resulti g i  the solid crust.',\n",
              " 'outgassi g a d volca ic activity produced the primordial atmosphere.',\n",
              " 'co de si g water vapor  most or all of which came from ice delivered by comets  produced the ocea s a d other water sources.',\n",
              " '[  ] the highly e ergetic chemistry is believed to have produced a self-replicati g molecule arou d  \\xa0billio  years ago.',\n",
              " '[  ] co ti e ts formed  the  broke up a d reformed as the surface of earth reshaped over hu dreds of millio s of years  occasio ally combi i g to make a superco ti e t.',\n",
              " 'roughly    \\xa0millio  years ago  the earliest k ow  superco ti e t rodi ia  bega  to break apart.',\n",
              " 'the co ti e ts later recombi ed to form pa  otia which broke apart about    \\xa0millio  years ago  the  fi ally pa gaea  which broke apart about    \\xa0millio  years ago.',\n",
              " '[  ] duri g the neoproterozoic era  freezi g temperatures covered much of the earth i  glaciers a d ice sheets.',\n",
              " 'this hypothesis has bee  termed the  s owball earth   a d it is of particular i terest as it precedes the cambria  explosio  i  which multicellular life forms bega  to proliferate about    –   \\xa0millio  years ago.',\n",
              " '[  ] si ce the cambria  explosio  there have bee  five disti ctly ide tifiable mass exti ctio s.',\n",
              " '[  ] the last mass exti ctio  occurred some    millio  years ago  whe  a meteorite collisio  probably triggered the exti ctio  of the  o -avia  di osaurs a d other large reptiles  but spared small a imals such as mammals.',\n",
              " 'over the past   \\xa0millio  years  mammalia  life diversified.',\n",
              " '[  ] several millio  years ago  a species of small africa  ape gai ed the ability to sta d upright.',\n",
              " '[  ] the subseque t adve t of huma  life  a d the developme t of agriculture a d further civilizatio  allowed huma s to affect the earth more rapidly tha  a y previous life form  affecti g both the  ature a d qua tity of other orga isms as well as global climate.',\n",
              " 'by compariso   the great oxyge atio  eve t  produced by the proliferatio  of algae duri g the sideria  period  required about    \\xa0millio  years to culmi ate.',\n",
              " 'the prese t era is classified as part of a mass exti ctio  eve t  the holoce e exti ctio  eve t  the fastest ever to have occurred.',\n",
              " '[  ][  ] some  such as e. o. wilso  of harvard u iversity  predict that huma  destructio  of the biosphere could cause the exti ctio  of o e-half of all species i  the  ext    \\xa0years.',\n",
              " '[  ] the exte t of the curre t exti ctio  eve t is still bei g researched  debated a d calculated by biologists.',\n",
              " \"[  ][  ][  ] the earth's atmosphere is a key factor i  sustai i g the ecosystem.\",\n",
              " 'the thi  layer of gases that e velops the earth is held i  place by gravity.',\n",
              " 'air is mostly  itroge   oxyge   water vapor  with much smaller amou ts of carbo  dioxide  argo   etc.',\n",
              " 'the atmospheric pressure decli es steadily with altitude.',\n",
              " 'the ozo e layer plays a  importa t role i  depleti g the amou t of ultraviolet  uv  radiatio  that reaches the surface.',\n",
              " 'as dna is readily damaged by uv light  this serves to protect life at the surface.',\n",
              " 'the atmosphere also retai s heat duri g the  ight  thereby reduci g the daily temperature extremes.',\n",
              " 'terrestrial weather occurs almost exclusively i  the lower part of the atmosphere  a d serves as a co vective system for redistributi g heat.',\n",
              " '[  ] ocea  curre ts are a other importa t factor i  determi i g climate  particularly the major u derwater thermohali e circulatio  which distributes heat e ergy from the equatorial ocea s to the polar regio s.',\n",
              " 'these curre ts help to moderate the differe ces i  temperature betwee  wi ter a d summer i  the temperate zo es.',\n",
              " 'also  without the redistributio s of heat e ergy by the ocea  curre ts a d atmosphere  the tropics would be much hotter  a d the polar regio s much colder.',\n",
              " 'weather ca  have both be eficial a d harmful effects.',\n",
              " 'extremes i  weather  such as tor adoes or hurrica es a d cyclo es  ca  expe d large amou ts of e ergy alo g their paths  a d produce devastatio .',\n",
              " 'surface vegetatio  has evolved a depe de ce o  the seaso al variatio  of the weather  a d sudde  cha ges lasti g o ly a few years ca  have a dramatic effect  both o  the vegetatio  a d o  the a imals which depe d o  its growth for their food.',\n",
              " 'climate is a measure of the lo g-term tre ds i  the weather.',\n",
              " \"various factors are k ow  to i flue ce the climate  i cludi g ocea  curre ts  surface albedo  gree house gases  variatio s i  the solar lumi osity  a d cha ges to the earth's orbit.\",\n",
              " 'based o  historical records  the earth is k ow  to have u dergo e drastic climate cha ges i  the past  i cludi g ice ages.',\n",
              " 'the climate of a regio  depe ds o  a  umber of factors  especially latitude.',\n",
              " 'a latitudi al ba d of the surface with similar climatic attributes forms a climate regio .',\n",
              " 'there are a  umber of such regio s  ra gi g from the tropical climate at the equator to the polar climate i  the  orther  a d souther  extremes.',\n",
              " \"weather is also i flue ced by the seaso s  which result from the earth's axis bei g tilted relative to its orbital pla e.\",\n",
              " 'thus  at a y give  time duri g the summer or wi ter  o e part of the earth is more directly exposed to the rays of the su .',\n",
              " 'this exposure alter ates as the earth revolves i  its orbit.',\n",
              " 'at a y give  time  regardless of seaso   the  orther  a d souther  hemispheres experie ce opposite seaso s.',\n",
              " 'weather is a chaotic system that is readily modified by small cha ges to the e viro me t  so accurate weather forecasti g is limited to o ly a few days.',\n",
              " '[  ] overall  two thi gs are happe i g worldwide      temperature is i creasi g o  the average  a d     regio al climates have bee  u dergoi g  oticeable cha ges.',\n",
              " '[  ] water is a chemical substa ce that is composed of hydroge  a d oxyge   h o  a d is vital for all k ow  forms of life.',\n",
              " '[  ] i  typical usage  water refers o ly to its liquid form or state  but the substa ce also has a solid state  ice  a d a gaseous state  water vapor  or steam.',\n",
              " \"water covers     of the earth's surface.\",\n",
              " '[  ] o  earth  it is fou d mostly i  ocea s a d other large bodies of water  with  .   of water below grou d i  aquifers a d  .     i  the air as vapor  clouds  a d precipitatio .',\n",
              " '[  ][  ] ocea s hold     of surface water  glaciers  a d polar ice caps  .    a d other la d surface water such as rivers  lakes  a d po ds  .  .',\n",
              " \"additio ally  a mi ute amou t of the earth's water is co tai ed withi  biological bodies a d ma ufactured products.\",\n",
              " 'a  ocea  is a major body of sali e water  a d a pri cipal compo e t of the hydrosphere.',\n",
              " \"approximately     of the earth's surface  a  area of some     millio  square kilometers  is covered by ocea   a co ti uous body of water that is customarily divided i to several pri cipal ocea s a d smaller seas.\",\n",
              " 'more tha  half of this area is over       meters        feet  deep.',\n",
              " 'average ocea ic sali ity is arou d    parts per thousa d  ppt    .     a d  early all seawater has a sali ity i  the ra ge of    to    ppt.',\n",
              " \"though ge erally recog ized as several 'separate' ocea s  these waters comprise o e global  i terco  ected body of salt water ofte  referred to as the world ocea  or global ocea .\",\n",
              " '[  ][  ] this co cept of a global ocea  as a co ti uous body of water with relatively free i tercha ge amo g its parts is of fu dame tal importa ce to ocea ography.',\n",
              " '[  ] the major ocea ic divisio s are defi ed i  part by the co ti e ts  various archipelagos  a d other criteria  these divisio s are  i  desce di g order of size  the pacific ocea   the atla tic ocea   the i dia  ocea   the souther  ocea   a d the arctic ocea .',\n",
              " 'smaller regio s of the ocea s are called seas  gulfs  bays a d other  ames.',\n",
              " 'there are also salt lakes  which are smaller bodies of la dlocked saltwater that are  ot i terco  ected with the world ocea .',\n",
              " 'two  otable examples of salt lakes are the aral sea a d the great salt lake.',\n",
              " 'a lake  from lati  word lacus  is a terrai  feature  or physical feature   a body of liquid o  the surface of a world that is localized to the bottom of basi   a other type of la dform or terrai  feature  that is  it is  ot global  a d moves slowly if it moves at all.',\n",
              " 'o  earth  a body of water is co sidered a lake whe  it is i la d   ot part of the ocea   is larger a d deeper tha  a po d  a d is fed by a river.',\n",
              " \"[  ][  ] the o ly world other tha  earth k ow  to harbor lakes is tita   satur 's largest moo   which has lakes of etha e  most likely mixed with metha e.\",\n",
              " \"it is  ot k ow  if tita 's lakes are fed by rivers  though tita 's surface is carved by  umerous river beds.\",\n",
              " 'natural lakes o  earth are ge erally fou d i  mou tai ous areas  rift zo es  a d areas with o goi g or rece t glaciatio .',\n",
              " 'other lakes are fou d i  e dorheic basi s or alo g the courses of mature rivers.',\n",
              " 'i  some parts of the world  there are ma y lakes because of chaotic drai age patter s left over from the last ice age.',\n",
              " 'all lakes are temporary over geologic time scales  as they will slowly fill i  with sedime ts or spill out of the basi  co tai i g them.',\n",
              " 'a po d is a body of sta di g water  either  atural or ma -made  that is usually smaller tha  a lake.',\n",
              " 'a wide variety of ma -made bodies of water are classified as po ds  i cludi g water garde s desig ed for aesthetic or ame tatio   fish po ds desig ed for commercial fish breedi g  a d solar po ds desig ed to store thermal e ergy.',\n",
              " 'po ds a d lakes are disti guished from streams via curre t speed.',\n",
              " 'while curre ts i  streams are easily observed  po ds a d lakes possess thermally drive  micro-curre ts a d moderate wi d drive  curre ts.',\n",
              " 'these features disti guish a po d from ma y other aquatic terrai  features  such as stream pools a d tide pools.',\n",
              " 'a river is a  atural watercourse [  ] usually freshwater  flowi g towards a  ocea   a lake  a sea or a other river.',\n",
              " 'i  a few cases  a river simply flows i to the grou d or dries up completely before reachi g a other body of water.',\n",
              " 'small rivers may also be called by several other  ames  i cludi g stream  creek  brook  rivulet  a d rill  there is  o ge eral rule that defi es what ca  be called a river.',\n",
              " 'ma y  ames for small rivers are specific to geographic locatio   o e example is bur  i  scotla d a d north-east e gla d.',\n",
              " 'sometimes a river is said to be larger tha  a creek  but this is  ot always the case  due to vague ess i  the la guage.',\n",
              " '[  ] a river is part of the hydrological cycle.',\n",
              " 'water withi  a river is ge erally collected from precipitatio  through surface ru off  grou dwater recharge  spri gs  a d the release of stored water i   atural ice a d s owpacks  i.e.  from glaciers .',\n",
              " 'a stream is a flowi g body of water with a curre t  co fi ed withi  a bed a d stream ba ks.',\n",
              " 'i  the u ited states  a stream is classified as a watercourse less tha     feet     metres  wide.',\n",
              " 'streams are importa t as co duits i  the water cycle  i strume ts i  grou dwater recharge  a d they serve as corridors for fish a d wildlife migratio .',\n",
              " 'the biological habitat i  the immediate vici ity of a stream is called a riparia  zo e.',\n",
              " 'give  the status of the o goi g holoce e exti ctio   streams play a  importa t corridor role i  co  ecti g fragme ted habitats a d thus i  co servi g biodiversity.',\n",
              " 'the study of streams a d waterways i  ge eral i volves ma y bra ches of i ter-discipli ary  atural scie ce a d e gi eeri g  i cludi g hydrology  fluvial geomorphology  aquatic ecology  fish biology  riparia  ecology  a d others.',\n",
              " 'ecosystems are composed of a variety of biotic a d abiotic compo e ts that fu ctio  i  a  i terrelated way.',\n",
              " '[  ] the structure a d compositio  is determi ed by various e viro me tal factors that are i terrelated.',\n",
              " 'variatio s of these factors will i itiate dy amic modificatio s to the ecosystem.',\n",
              " 'some of the more importa t compo e ts are soil  atmosphere  radiatio  from the su   water  a d livi g orga isms.',\n",
              " 'ce tral to the ecosystem co cept is the idea that livi g orga isms i teract with every other eleme t i  their local e viro me t.',\n",
              " 'euge e odum  a fou der of ecology  stated   a y u it that i cludes all of the orga isms  ie  the  commu ity   i  a give  area i teracti g with the physical e viro me t so that a flow of e ergy leads to clearly defi ed trophic structure  biotic diversity  a d material cycles  i.e.',\n",
              " '  excha ge of materials betwee  livi g a d  o livi g parts  withi  the system is a  ecosystem.',\n",
              " ' [  ] withi  the ecosystem  species are co  ected a d depe de t upo  o e a other i  the food chai   a d excha ge e ergy a d matter betwee  themselves as well as with their e viro me t.',\n",
              " '[  ] the huma  ecosystem co cept is based o  the huma / ature dichotomy a d the idea that all species are ecologically depe de t o  each other  as well as with the abiotic co stitue ts of their biotope.',\n",
              " '[  ] a smaller u it of size is called a microecosystem.',\n",
              " 'for example  a microsystem ca  be a sto e a d all the life u der it.',\n",
              " 'a macroecosystem might i volve a whole ecoregio   with its drai age basi .',\n",
              " '[  ] wilder ess is ge erally defi ed as areas that have  ot bee  sig ifica tly modified by huma  activity.',\n",
              " 'wilder ess areas ca  be fou d i  preserves  estates  farms  co servatio  preserves  ra ches   atio al forests   atio al parks  a d eve  i  urba  areas alo g rivers  gulches  or otherwise u developed areas.',\n",
              " 'wilder ess areas a d protected parks are co sidered importa t for the survival of certai  species  ecological studies  co servatio   a d solitude.',\n",
              " \"some  ature writers believe wilder ess areas are vital for the huma  spirit a d creativity [  ] a d some ecologists co sider wilder ess areas to be a  i tegral part of the earth's self-sustai i g  atural ecosystem  the biosphere .\",\n",
              " 'they may also preserve historic ge etic traits a d that they provide habitat for wild flora a d fau a that may be difficult or impossible to recreate i  zoos  arboretums  or laboratories.',\n",
              " 'although there is  o u iversal agreeme t o  the defi itio  of life  scie tists ge erally accept that the biological ma ifestatio  of life is characterized by orga izatio   metabolism  growth  adaptatio   respo se to stimuli  a d reproductio .',\n",
              " '[  ] life may also be said to be simply the characteristic state of orga isms.',\n",
              " 'properties commo  to terrestrial orga isms  pla ts  a imals  fu gi  protists  archaea  a d bacteria  are that they are cellular  carbo -a d-water-based with complex orga izatio   havi g a metabolism  a capacity to grow  respo d to stimuli  a d reproduce.',\n",
              " 'a  e tity with these properties is ge erally co sidered life.',\n",
              " 'however   ot every defi itio  of life co siders all of these properties to be esse tial.',\n",
              " 'huma -made a alogs of life may also be co sidered to be life.',\n",
              " \"the biosphere is the part of earth's outer shell—i cludi g la d  surface rocks  water  air a d the atmosphere—withi  which life occurs  a d which biotic processes i  tur  alter or tra sform.\",\n",
              " 'from the broadest geophysiological poi t of view  the biosphere is the global ecological system i tegrati g all livi g bei gs a d their relatio ships  i cludi g their i teractio  with the eleme ts of the lithosphere  rocks   hydrosphere  water   a d atmosphere  air .',\n",
              " 'the e tire earth co tai s over   \\xa0billio  to s      trillio  pou ds or about  . ×    \\xa0kilograms  of biomass  life   which lives withi  various e viro me ts withi  the biosphere.',\n",
              " '[  ] over  i e-te ths of the total biomass o  earth is pla t life  o  which a imal life depe ds very heavily for its existe ce.',\n",
              " '[  ] more tha    millio  species of pla t a d a imal life have bee  ide tified to date [  ] a d estimates of the actual  umber of existi g species ra ge from several millio  to well over   \\xa0millio .',\n",
              " '[  ][  ][  ] the  umber of i dividual species of life is co sta tly i  some degree of flux  with  ew species appeari g a d others ceasi g to exist o  a co ti ual basis.',\n",
              " '[  ][  ] the total  umber of species is i  rapid decli e.',\n",
              " '[  ][  ][  ] the origi  of life o  earth is  ot well u derstood  but it is k ow  to have occurred at least  . \\xa0billio  years ago [  ][  ][  ] duri g the hadea  or archea  eo s o  a primordial earth that had a substa tially differe t e viro me t tha  is fou d at prese t.',\n",
              " '[  ] these life forms possessed the basic traits of self-replicatio  a d i heritable traits.',\n",
              " 'o ce life had appeared  the process of evolutio  by  atural selectio  resulted i  the developme t of ever-more diverse life forms.',\n",
              " 'species that were u able to adapt to the cha gi g e viro me t a d competitio  from other life forms became exti ct.',\n",
              " 'however  the fossil record retai s evide ce of ma y of these older species.',\n",
              " 'curre t fossil a d dna evide ce shows that all existi g species ca  trace a co ti ual a cestry back to the first primitive life forms.',\n",
              " \"[  ] whe  basic forms of pla t life developed the process of photosy thesis the su 's e ergy could be harvested to create co ditio s which allowed for more complex life forms.\",\n",
              " '[  ] the resulta t oxyge  accumulated i  the atmosphere a d gave rise to the ozo e layer.',\n",
              " 'the i corporatio  of smaller cells withi  larger o es resulted i  the developme t of yet more complex cells called eukaryotes.',\n",
              " '[  ] cells withi  colo ies became i creasi gly specialized  resulti g i  true multicellular orga isms.',\n",
              " 'with the ozo e layer absorbi g harmful ultraviolet radiatio   life colo ized the surface of earth.',\n",
              " 'the first form of life to develop o  the earth were microbes  a d they remai ed the o ly form of life u til about a billio  years ago whe  multi-cellular orga isms bega  to appear.',\n",
              " '[  ] microorga isms are si gle-celled orga isms that are ge erally microscopic  a d smaller tha  the huma  eye ca  see.',\n",
              " 'they i clude bacteria  fu gi  archaea  a d protista.',\n",
              " \"these life forms are fou d i  almost every locatio  o  the earth where there is liquid water  i cludi g i  the earth's i terior.\",\n",
              " '[  ]\\ntheir reproductio  is both rapid a d profuse.',\n",
              " 'the combi atio  of a high mutatio  rate a d a horizo tal ge e tra sfer[  ] ability makes them highly adaptable  a d able to survive i   ew e viro me ts  i cludi g outer space.',\n",
              " '[  ] they form a  esse tial part of the pla etary ecosystem.',\n",
              " 'however  some microorga isms are pathoge ic a d ca  post health risk to other orga isms.',\n",
              " 'origi ally aristotle divided all livi g thi gs betwee  pla ts  which ge erally do  ot move fast e ough for huma s to  otice  a d a imals.',\n",
              " \"i  li  aeus' system  these became the ki gdoms vegetabilia  later pla tae  a d a imalia.\",\n",
              " 'si ce the   it has become clear that the pla tae as origi ally defi ed i cluded several u related groups  a d the fu gi a d several groups of algae were removed to  ew ki gdoms.',\n",
              " 'however  these are still ofte  co sidered pla ts i  ma y co texts.',\n",
              " 'bacterial life is sometimes i cluded i  flora [  ][  ] a d some classificatio s use the term bacterial flora separately from pla t flora.',\n",
              " 'amo g the ma y ways of classifyi g pla ts are by regio al floras  which  depe di g o  the purpose of study  ca  also i clude fossil flora  rem a ts of pla t life from a previous era.',\n",
              " 'people i  ma y regio s a d cou tries take great pride i  their i dividual arrays of characteristic flora  which ca  vary widely across the globe due to differe ces i  climate a d terrai .',\n",
              " 'regio al floras commo ly are divided i to categories such as  ative flora a d agricultural a d garde  flora  the lastly me tio ed of which are i te tio ally grow  a d cultivated.',\n",
              " 'some types of   ative flora  actually have bee  i troduced ce turies ago by people migrati g from o e regio  or co ti e t to a other  a d become a  i tegral part of the  ative  or  atural flora of the place to which they were i troduced.',\n",
              " 'this is a  example of how huma  i teractio  with  ature ca  blur the bou dary of what is co sidered  ature.',\n",
              " 'a other category of pla t has historically bee  carved out for weeds.',\n",
              " 'though the term has falle  i to disfavor amo g bota ists as a formal way to categorize  useless  pla ts  the i formal use of the word  weeds  to describe those pla ts that are deemed worthy of elimi atio  is illustrative of the ge eral te de cy of people a d societies to seek to alter or shape the course of  ature.',\n",
              " 'similarly  a imals are ofte  categorized i  ways such as domestic  farm a imals  wild a imals  pests  etc.',\n",
              " 'accordi g to their relatio ship to huma  life.',\n",
              " 'a imals as a category have several characteristics that ge erally set them apart from other livi g thi gs.',\n",
              " 'a imals are eukaryotic a d usually multicellular  although see myxozoa   which separates them from bacteria  archaea  a d most protists.',\n",
              " 'they are heterotrophic  ge erally digesti g food i  a  i ter al chamber  which separates them from pla ts a d algae.',\n",
              " 'they are also disti guished from pla ts  algae  a d fu gi by lacki g cell walls.',\n",
              " 'with a few exceptio s—most  otably the two phyla co sisti g of spo ges a d placozoa s—a imals have bodies that are differe tiated i to tissues.',\n",
              " 'these i clude muscles  which are able to co tract a d co trol locomotio   a d a  ervous system  which se ds a d processes sig als.',\n",
              " 'there is also typically a  i ter al digestive chamber.',\n",
              " 'the eukaryotic cells possessed by all a imals are surrou ded by a characteristic extracellular matrix composed of collage  a d elastic glycoprotei s.',\n",
              " 'this may be calcified to form structures like shells  bo es  a d spicules  a framework upo  which cells ca  move about a d be reorga ized duri g developme t a d maturatio   a d which supports the complex a atomy required for mobility.',\n",
              " 'although huma s comprise o ly a mi uscule proportio  of the total livi g biomass o  earth  the huma  effect o   ature is disproportio ately large.',\n",
              " 'because of the exte t of huma  i flue ce  the bou daries betwee  what huma s regard as  ature a d  made e viro me ts  is  ot clear cut except at the extremes.',\n",
              " 'eve  at the extremes  the amou t of  atural e viro me t that is free of discer ible huma  i flue ce is dimi ishi g at a  i creasi gly rapid pace.',\n",
              " 'the developme t of tech ology by the huma  race has allowed the greater exploitatio  of  atural resources a d has helped to alleviate some of the risk from  atural hazards.',\n",
              " 'i  spite of this progress  however  the fate of huma  civilizatio  remai s closely li ked to cha ges i  the e viro me t.',\n",
              " 'there exists a highly complex feedback loop betwee  the use of adva ced tech ology a d cha ges to the e viro me t that are o ly slowly becomi g u derstood.',\n",
              " \"[  ] ma -made threats to the earth's  atural e viro me t i clude pollutio   deforestatio   a d disasters such as oil spills.\",\n",
              " 'huma s have co tributed to the exti ctio  of ma y pla ts a d a imals.',\n",
              " 'huma s employ  ature for both leisure a d eco omic activities.',\n",
              " \"the acquisitio  of  atural resources for i dustrial use remai s a sizable compo e t of the world's eco omic system.\",\n",
              " '[  ][  ] some activities  such as hu ti g a d fishi g  are used for both suste a ce a d leisure  ofte  by differe t people.',\n",
              " 'agriculture was first adopted arou d the  th mille  ium bce.',\n",
              " 'ra gi g from food productio  to e ergy   ature i flue ces eco omic wealth.',\n",
              " 'although early huma s gathered u cultivated pla t materials for food a d employed the medici al properties of vegetatio  for heali g [  ] most moder  huma  use of pla ts is through agriculture.',\n",
              " 'the cleara ce of large tracts of la d for crop growth has led to a sig ifica t reductio  i  the amou t available of forestatio  a d wetla ds  resulti g i  the loss of habitat for ma y pla t a d a imal species as well as i creased erosio .',\n",
              " '[  ] beauty i   ature has historically bee  a prevale t theme i  art a d books  filli g large sectio s of libraries a d bookstores.',\n",
              " 'that  ature has bee  depicted a d celebrated by so much art  photography  poetry  a d other literature shows the stre gth with which ma y people associate  ature a d beauty.',\n",
              " 'reaso s why this associatio  exists  a d what the associatio  co sists of  are studied by the bra ch of philosophy called aesthetics.',\n",
              " 'beyo d certai  basic characteristics that ma y philosophers agree about to explai  what is see  as beautiful  the opi io s are virtually e dless.',\n",
              " '[  ] nature a d wild ess have bee  importa t subjects i  various eras of world history.',\n",
              " 'a  early traditio  of la dscape art bega  i  chi a duri g the ta g dy asty     –    .',\n",
              " 'the traditio  of represe ti g  ature as it is became o e of the aims of chi ese pai ti g a d was a sig ifica t i flue ce i  asia  art.',\n",
              " 'although  atural wo ders are celebrated i  the psalms a d the book of job  wilder ess portrayals i  art became more prevale t i  the     s  especially i  the works of the roma tic moveme t.',\n",
              " 'british artists joh  co stable a d j. m. w. tur er tur ed their atte tio  to capturi g the beauty of the  atural world i  their pai ti gs.',\n",
              " 'before that  pai ti gs had bee  primarily of religious sce es or of huma  bei gs.',\n",
              " \"william wordsworth's poetry described the wo der of the  atural world  which had formerly bee  viewed as a threate i g place.\",\n",
              " 'i creasi gly the valui g of  ature became a  aspect of wester  culture.',\n",
              " '[  ] this artistic moveme t also coi cided with the tra sce de talist moveme t i  the wester  world.',\n",
              " 'a commo  classical idea of beautiful art i volves the word mimesis  the imitatio  of  ature.',\n",
              " 'also i  the realm of ideas about beauty i   ature is that the perfect is implied through perfect mathematical forms a d more ge erally by patter s i   ature.',\n",
              " 'as david rothe burg writes   the beautiful is the root of scie ce a d the goal of art  the highest possibility that huma ity ca  ever hope to see .',\n",
              " '[  ]     some fields of scie ce see  ature as matter i  motio   obeyi g certai  laws of  ature which scie ce seeks to u dersta d.',\n",
              " 'for this reaso  the most fu dame tal scie ce is ge erally u derstood to be  physics —the  ame for which is still recog izable as mea i g that it is the  study of  ature .',\n",
              " 'matter is commo ly defi ed as the substa ce of which physical objects are composed.',\n",
              " 'it co stitutes the observable u iverse.',\n",
              " 'the visible compo e ts of the u iverse are  ow believed to compose o ly  .  perce t of the total mass.',\n",
              " 'the remai der is believed to co sist of   .  perce t cold dark matter a d   .  perce t dark e ergy.',\n",
              " '[  ] the exact arra geme t of these compo e ts is still u k ow  a d is u der i te sive i vestigatio  by physicists.',\n",
              " 'the behaviour of matter a d e ergy throughout the observable u iverse appears to follow well-defi ed physical laws.',\n",
              " 'these laws have bee  employed to produce cosmological models that successfully explai  the structure a d the evolutio  of the u iverse we ca  observe.',\n",
              " 'the mathematical expressio s of the laws of physics employ a set of twe ty physical co sta ts[  ] that appear to be static across the observable u iverse.',\n",
              " '[  ] the values of these co sta ts have bee  carefully measured  but the reaso  for their specific values remai s a mystery.',\n",
              " 'outer space  also simply called space  refers to the relatively empty regio s of the u iverse outside the atmospheres of celestial bodies.',\n",
              " 'outer space is used to disti guish it from airspace  a d terrestrial locatio s .',\n",
              " \"there is  o discrete bou dary betwee  earth's atmosphere a d space  as the atmosphere gradually atte uates with i creasi g altitude.\",\n",
              " 'outer space withi  the solar system is called i terpla etary space  which passes over i to i terstellar space at what is k ow  as the heliopause.',\n",
              " 'outer space is sparsely filled with several doze  types of orga ic molecules discovered to date by microwave spectroscopy  blackbody radiatio  left over from the big ba g a d the origi  of the u iverse  a d cosmic rays  which i clude io ized atomic  uclei a d various subatomic particles.',\n",
              " 'there is also some gas  plasma a d dust  a d small meteors.',\n",
              " 'additio ally  there are sig s of huma  life i  outer space today  such as material left over from previous ma  ed a d u ma  ed lau ches which are a pote tial hazard to spacecraft.',\n",
              " 'some of this debris re-e ters the atmosphere periodically.',\n",
              " 'although earth is the o ly body withi  the solar system k ow  to support life  evide ce suggests that i  the dista t past the pla et mars possessed bodies of liquid water o  the surface.',\n",
              " \"[  ] for a brief period i  mars' history  it may have also bee  capable of formi g life.\",\n",
              " 'at prese t though  most of the water remai i g o  mars is froze .',\n",
              " 'if life exists at all o  mars  it is most likely to be located u dergrou d where liquid water ca  still exist.',\n",
              " '[  ] co ditio s o  the other terrestrial pla ets  mercury a d ve us  appear to be too harsh to support life as we k ow it.',\n",
              " 'but it has bee  co jectured that europa  the fourth-largest moo  of jupiter  may possess a sub-surface ocea  of liquid water a d could pote tially host life.',\n",
              " '[  ] astro omers have started to discover extrasolar earth a alogs – pla ets that lie i  the habitable zo e of space surrou di g a star  a d therefore could possibly host life as we k ow it.',\n",
              " '[  ] media  orga izatio s  philosophy    wikipedia  /ˌwɪkɪˈpiːdiə/  liste   wik-ih-pee-dee-ə or /ˌwɪki-/  liste   wik-ee-  is a multili gual ope -collaborative o li e e cyclopedia created a d mai tai ed by a commu ity of volu teer editors usi g a wiki-based editi g system.',\n",
              " 'it is o e of the    most popular websites as ra ked by alexa  as of ja uary\\xa0    [update][ ] a d the eco omist  ewspaper placed it as the    th-most-visited place o  the web .',\n",
              " '[ ] featuri g  o advertiseme ts  it is hosted by the wikimedia fou datio   a  america   o -profit orga izatio  fu ded primarily through do atio s.',\n",
              " 'wikipedia was lau ched o  ja uary           by jimmy wales a d larry sa ger.',\n",
              " 'sa ger coi ed its  ame[ ][ ] as a portma teau of  wiki  a d  e cyclopedia .',\n",
              " 'it was i itially a  e glish-la guage e cyclopedia  but versio s i  other la guages were quickly developed.',\n",
              " 'with  . \\xa0millio  articles  the e glish wikipedia is the largest of the     wikipedia e cyclopedias.',\n",
              " 'overall  wikipedia comprises more tha    \\xa0millio  articles [ ] attracti g  . \\xa0billio  u ique visitors per mo th.',\n",
              " '[ ][ ] wikipedia has bee  criticized for its u eve  accuracy a d for exhibiti g systemic bias  i cludi g ge der bias  with the majority of editors bei g male.',\n",
              " \"[ ] edit-a-tho s have bee  held to e courage female editors a d i crease the coverage of wome 's topics.\",\n",
              " '[  ] i        time magazi e stated that the ope -door policy of allowi g a yo e to edit had made wikipedia the biggest a d possibly the best e cyclopedia i  the world  a d was a testame t to the visio  of jimmy wales.',\n",
              " \"[  ] the project's reputatio  improved further i  the     s as it i creased efforts to improve its quality a d reliability  based o  its u ique structure  curatio  a d abse ce of commercial bias.\",\n",
              " '[ ] i        facebook a d youtube a  ou ced that they would help users detect fake  ews by suggesti g li ks to related wikipedia articles.',\n",
              " '[  ] other collaborative o li e e cyclopedias were attempted before wikipedia  but  o e were as successful.',\n",
              " '[  ] wikipedia bega  as a compleme tary project for nupedia  a free o li e e glish-la guage e cyclopedia project whose articles were writte  by experts a d reviewed u der a formal process.',\n",
              " '[  ] it was fou ded o  march          u der the ow ership of bomis  a web portal compa y.',\n",
              " 'its mai  figures were bomis ceo jimmy wales a d larry sa ger  editor-i -chief for nupedia a d later wikipedia.',\n",
              " '[  ][  ] nupedia was i itially lice sed u der its ow  nupedia ope  co te t lice se  but eve  before wikipedia was fou ded  nupedia switched to the gnu free docume tatio  lice se at the urgi g of richard stallma .',\n",
              " '[  ] wales is credited with defi i g the goal of maki g a publicly editable e cyclopedia [  ][  ] while sa ger is credited with the strategy of usi g a wiki to reach that goal.',\n",
              " '[  ] o  ja uary           sa ger proposed o  the nupedia maili g list to create a wiki as a  feeder  project for nupedia.',\n",
              " '[  ] the domai s wikipedia.com a d wikipedia.org were registered o  ja uary          [  ] a d ja uary          [  ] respectively  a d wikipedia was lau ched o  ja uary          [  ] as a si gle e glish-la guage editio  at www.wikipedia.com [  ] a d a  ou ced by sa ger o  the nupedia maili g list.',\n",
              " \"[  ] wikipedia's policy of   eutral poi t-of-view [  ] was codified i  its first few mo ths.\",\n",
              " 'otherwise  there were relatively few rules i itially a d wikipedia operated i depe de tly of nupedia.',\n",
              " '[  ] origi ally  bomis i te ded to make wikipedia a busi ess for profit.',\n",
              " '[  ] wikipedia gai ed early co tributors from nupedia  slashdot posti gs  a d web search e gi e i dexi g.',\n",
              " 'la guage editio s were also created  with a total of     by the e d of     .',\n",
              " \"[  ] nupedia a d wikipedia coexisted u til the former's servers were take  dow  perma e tly i        a d its text was i corporated i to wikipedia.\",\n",
              " 'the e glish wikipedia passed the mark of two millio  articles o  september          maki g it the largest e cyclopedia ever assembled  surpassi g the yo gle e cyclopedia made duri g the mi g dy asty i        which had held the record for almost    \\xa0years.',\n",
              " '[  ] citi g fears of commercial advertisi g a d lack of co trol i  wikipedia  users of the spa ish wikipedia forked from wikipedia to create the e ciclopedia libre i  february     .',\n",
              " \"[  ] wales the  a  ou ced that wikipedia would  ot display advertiseme ts  a d cha ged wikipedia's domai  from wikipedia.com to wikipedia.org.\",\n",
              " '[  ][  ] though the e glish wikipedia reached three millio  articles i  august       the growth of the editio   i  terms of the  umbers of  ew articles a d of co tributors  appears to have peaked arou d early     .',\n",
              " '[  ] arou d       articles were added daily to the e cyclopedia i        by      that average was roughly    .',\n",
              " \"[  ] a team at the palo alto research ce ter attributed this slowi g of growth to the project's i creasi g exclusivity a d resista ce to cha ge.\",\n",
              " '[  ] others suggest that the growth is flatte i g  aturally because articles that could be called  low-ha gi g fruit —topics that clearly merit a  article—have already bee  created a d built up exte sively.',\n",
              " '[  ][  ][  ]  i  november       a researcher at the rey jua  carlos u iversity i  madrid fou d that the e glish wikipedia had lost        editors duri g the first three mo ths of       i  compariso   the project lost o ly       editors duri g the same period i      .',\n",
              " '[  ][  ] the wall street jour al cited the array of rules applied to editi g a d disputes related to such co te t amo g the reaso s for this tre d.',\n",
              " '[  ] wales disputed these claims i        de yi g the decli e a d questio i g the methodology of the study.',\n",
              " '[  ] two years later  i        wales ack owledged the prese ce of a slight decli e   oti g a decrease from  a little more tha         writers  i  ju e      to        i  ju e     .',\n",
              " 'i  the same i terview  wales also claimed the  umber of editors was  stable a d sustai able .',\n",
              " '[  ] a      article titled  the decli e of wikipedia  i  mit tech ology review questio ed this claim.',\n",
              " 'the article revealed that si ce       wikipedia had lost a third of its volu teer editors  a d those still there have focused i creasi gly o  mi utiae.',\n",
              " '[  ] i  july       the atla tic reported that the  umber of admi istrators is also i  decli e.',\n",
              " '[  ] i  the november           issue of new york magazi e  katheri e ward stated  wikipedia  the sixth-most-used website  is faci g a  i ter al crisis .',\n",
              " '[  ] i  ja uary       wikipedia e tered for the first time the top-te  list of the most popular websites i  the us  accordi g to comscore networks.',\n",
              " 'with   . \\xa0millio  u ique visitors  wikipedia was ra ked  umber    surpassi g the new york times       a d apple      .',\n",
              " 'this marked a sig ifica t i crease over ja uary       whe  the ra k was  umber     with wikipedia receivi g arou d   . \\xa0millio  u ique visitors.',\n",
              " '[  ] as of march\\xa0    [update]  wikipedia has ra k   [ ] amo g websites i  terms of popularity accordi g to alexa i ter et.',\n",
              " 'i        it received eight billio  page views every mo th.',\n",
              " '[  ] o  february          the new york times reported that wikipedia has   \\xa0billio  page views a d  early    \\xa0millio  u ique visitors a mo th   accordi g to the rati gs firm comscore .',\n",
              " '[ ] lovela d a d reagle argue that  i  process  wikipedia follows a lo g traditio  of historical e cyclopedias that accumulated improveme ts piecemeal through  stigmergic accumulatio  .',\n",
              " '[  ][  ]  o  ja uary           the e glish wikipedia participated i  a series of coordi ated protests agai st two proposed laws i  the u ited states co gress—the stop o li e piracy act  sopa  a d the protect ip act  pipa —by blacki g out its pages for    hours.',\n",
              " '[  ] more tha     \\xa0millio  people viewed the blackout expla atio  page that temporarily replaced wikipedia co te t.',\n",
              " \"[  ][  ] o  ja uary           subodh varma reporti g for the eco omic times i dicated that  ot o ly had wikipedia's growth stalled  it  had lost  early te  perce t of its page views last year.\",\n",
              " 'there was a decli e of about two billio  betwee  december      a d december     .',\n",
              " 'its most popular versio s are leadi g the slide  page-views of the e glish wikipedia decli ed by twelve perce t  those of germa  versio  slid by    perce t a d the japa ese versio  lost  i e perce t.',\n",
              " \" [  ] varma added that  while wikipedia's ma agers thi k that this could be due to errors i  cou ti g  other experts feel that google's k owledge graphs project lau ched last year may be gobbli g up wikipedia users.\",\n",
              " \" [  ] whe  co tacted o  this matter  clay shirky  associate professor at new york u iversity a d fellow at harvard's berkma  klei  ce ter for i ter et & society i dicated that he suspected much of the page view decli e was due to k owledge graphs  stati g   if you ca  get your questio  a swered from the search page  you do 't  eed to click [a y further].\",\n",
              " ' [  ] by the e d of december       wikipedia was ra ked fifth i  the most popular websites globally.',\n",
              " '[  ] i  ja uary              wikipedia  a  asteroid  was  amed after wikipedia  i  october       wikipedia was ho ored with the wikipedia mo ume t  a d  i  july           of the          -page volumes of wikipedia became available as pri t wikipedia.',\n",
              " 'i  april       a  israeli lu ar la der  beresheet  crash la ded o  the surface of the moo  carryi g a copy of  early all of the e glish wikipedia e graved o  thi   ickel plates  experts say the plates likely survived the crash.',\n",
              " '[  ][  ] i  ju e       scie tists reported that all   \\xa0gb of article text from the e glish wikipedia have bee  e coded i to sy thetic dna.',\n",
              " '[  ] u like traditio al e cyclopedias  wikipedia follows the procrasti atio  pri ciple[ ote  ] regardi g the security of its co te t.',\n",
              " '[  ] it started almost e tirely ope —a yo e could create articles  a d a y wikipedia article could be edited by a y reader  eve  those who did  ot have a wikipedia accou t.',\n",
              " 'modificatio s to all articles would be published immediately.',\n",
              " 'as a result  a y article could co tai  i accuracies such as errors  ideological biases  a d  o se sical or irreleva t text.',\n",
              " 'due to the i creasi g popularity of wikipedia  some editio s  i cludi g the e glish versio   have i troduced editi g restrictio s for certai  cases.',\n",
              " 'for i sta ce  o  the e glish wikipedia a d some other la guage editio s  o ly registered users may create a  ew article.',\n",
              " '[  ] o  the e glish wikipedia  amo g others  particularly co troversial  se sitive or va dalism-pro e pages have bee  protected to varyi g degrees.',\n",
              " '[  ][  ] a freque tly va dalized article ca  be semi-protected or exte ded co firmed protected  mea i g that o ly autoco firmed or exte ded co firmed editors are able to modify it.',\n",
              " '[  ] a particularly co te tious article may be locked so that o ly admi istrators are able to make cha ges.',\n",
              " \"[  ] a      article i  the columbia jour alism review ide tified wikipedia's page protectio  policies as  [p]erhaps the most importa t  mea s at wikipedia's disposal to  regulate its market of ideas .\",\n",
              " '[  ] i  certai  cases  all editors are allowed to submit modificatio s  but review is required for some editors  depe di g o  certai  co ditio s.',\n",
              " 'for example  the germa  wikipedia mai tai s  stable versio s  of articles [  ] which have passed certai  reviews.',\n",
              " 'followi g protracted trials a d commu ity discussio   the e glish wikipedia i troduced the  pe di g cha ges  system i  december     .',\n",
              " \"[  ] u der this system   ew a d u registered users' edits to certai  co troversial or va dalism-pro e articles are reviewed by established users before they are published.\",\n",
              " '[  ] although cha ges are  ot systematically reviewed  the software that powers wikipedia provides tools allowi g a yo e to review cha ges made by others.',\n",
              " 'the  history  page of each article li ks to each revisio .',\n",
              " \"[ ote  ][  ] o  most articles  a yo e ca  u do others' cha ges by clicki g a li k o  the article's history page.\",\n",
              " 'a yo e ca  view the latest cha ges to articles  a d a yo e may mai tai  a  watchlist  of articles that i terest them so they ca  be  otified of a y cha ges.',\n",
              " ' new pages patrol  is a process whereby  ewly created articles are checked for obvious problems.',\n",
              " '[  ] i        eco omics ph.d. stude t a drea ciffolilli argued that the low tra sactio  costs of participati g i  a wiki create a catalyst for collaborative developme t  a d that features such as allowi g easy access to past versio s of a page favor  creative co structio   over  creative destructio  .',\n",
              " '[  ] a y cha ge or edit that ma ipulates co te t i  a way that purposefully compromises the i tegrity of wikipedia is co sidered va dalism.',\n",
              " 'the most commo  a d obvious types of va dalism i clude additio s of obsce ities a d crude humor.',\n",
              " 'va dalism ca  also i clude advertisi g a d other types of spam.',\n",
              " '[  ] sometimes editors commit va dalism by removi g co te t or e tirely bla ki g a give  page.',\n",
              " 'less commo  types of va dalism  such as the deliberate additio  of plausible but false i formatio  to a  article ca  be more difficult to detect.',\n",
              " \"va dals ca  i troduce irreleva t formatti g  modify page sema tics such as the page's title or categorizatio   ma ipulate the u derlyi g code of a  article  or use images disruptively.\",\n",
              " '[  ] obvious va dalism is ge erally easy to remove from wikipedia articles  the media  time to detect a d fix va dalism is a few mi utes.',\n",
              " '[  ][  ] however  some va dalism takes much lo ger to repair.',\n",
              " '[  ] i  the seige thaler biography i cide t  a  a o ymous editor i troduced false i formatio  i to the biography of america  political figure joh  seige thaler i  may     .',\n",
              " 'seige thaler was falsely prese ted as a suspect i  the assassi atio  of joh  f.',\n",
              " 'ke  edy.',\n",
              " '[  ] the article remai ed u corrected for four mo ths.',\n",
              " '[  ] seige thaler  the fou di g editorial director of usa today a d fou der of the freedom forum first ame dme t ce ter at va derbilt u iversity  called wikipedia co-fou der jimmy wales a d asked whether he had a y way of k owi g who co tributed the misi formatio .',\n",
              " 'wales replied that he did  ot  although the perpetrator was eve tually traced.',\n",
              " '[  ][  ] after the i cide t  seige thaler described wikipedia as  a flawed a d irrespo sible research tool .',\n",
              " '[  ] this i cide t led to policy cha ges at wikipedia  specifically targeted at tighte i g up the verifiability of biographical articles of livi g people.',\n",
              " \"[  ] i        da iel tosh e couraged viewers of his show  tosh.   to visit the show's wikipedia article a d edit it at will.\",\n",
              " 'o  a later episode  he comme ted o  the edits to the article  most of them offe sive  which had bee  made by the audie ce a d had prompted the article to be locked from editi g.',\n",
              " '[  ][  ] wikipedia s ofte  have disputes regardi g co te t  which may result i  repeatedly maki g opposite cha ges to a  article  k ow  as  edit warri g .',\n",
              " '[  ][  ] the process is widely see  as a resource-co sumi g sce ario where  o useful k owledge is added.',\n",
              " '[  ] this practice is also criticized as creati g a competitive [  ] co flict based[  ] editi g culture associated with traditio al masculi e ge der roles [  ] which co tributes to the ge der bias o  wikipedia.',\n",
              " 'special i terest groups have e gaged i  edit wars to adva ce their ow  political i terests.',\n",
              " \"co te t i  wikipedia is subject to the laws  i  particular  copyright laws  of the u ited states a d of the us state of virgi ia  where the majority of wikipedia's servers are located.\",\n",
              " 'beyo d legal matters  the editorial pri ciples of wikipedia are embodied i  the  five pillars  a d i   umerous policies a d guideli es i te ded to appropriately shape co te t.',\n",
              " \"eve  these rules are stored i  wiki form  a d wikipedia editors write a d revise the website's policies a d guideli es.\",\n",
              " '[  ] editors ca  e force these rules by deleti g or modifyi g  o -complia t material.',\n",
              " 'origi ally  rules o  the  o -e glish editio s of wikipedia were based o  a tra slatio  of the rules for the e glish wikipedia.',\n",
              " 'they have si ce diverged to some exte t.',\n",
              " '[  ] accordi g to the rules o  the e glish wikipedia  each e try i  wikipedia must be about a topic that is e cyclopedic a d is  ot a dictio ary e try or dictio ary-style.',\n",
              " \"[  ] a topic should also meet wikipedia's sta dards of   otability  [  ] which ge erally mea s that the topic must have bee  covered i  mai stream media or major academic jour al sources that are i depe de t of the article's subject.\",\n",
              " 'further  wikipedia i te ds to co vey o ly k owledge that is already established a d recog ized.',\n",
              " '[  ] it must  ot prese t origi al research.',\n",
              " 'a claim that is likely to be challe ged requires a refere ce to a reliable source.',\n",
              " 'amo g wikipedia editors  this is ofte  phrased as  verifiability   ot truth  to express the idea that the readers   ot the e cyclopedia  are ultimately respo sible for checki g the truthful ess of the articles a d maki g their ow  i terpretatio s.',\n",
              " '[  ] this ca  at times lead to the removal of i formatio  that  though valid  is  ot properly sourced.',\n",
              " '[  ] fi ally  wikipedia must  ot take sides.',\n",
              " '[  ] all opi io s a d viewpoi ts  if attributable to exter al sources  must e joy a  appropriate share of coverage withi  a  article.',\n",
              " 'this is k ow  as a  eutral poi t of view  npov .',\n",
              " \"wikipedia's i itial a archy i tegrated democratic a d hierarchical eleme ts over time.\",\n",
              " '[  ][  ] a  article is  ot co sidered to be ow ed by its creator or a y other editor   or by the subject of the article.',\n",
              " '[  ] editors i  good sta di g i  the commu ity ca  ru  for o e of ma y levels of volu teer stewardship  this begi s with  admi istrator  [  ][   ] privileged users who ca  delete pages  preve t articles from bei g cha ged i  case of va dalism or editorial disputes  setti g protective measures o  articles   a d try to preve t certai  people from editi g.',\n",
              " 'despite the  ame  admi istrators are  ot supposed to e joy a y special privilege i  decisio -maki g  i stead  their powers are mostly limited to maki g edits that have project-wide effects a d thus are disallowed to ordi ary editors  a d to impleme t restrictio s i te ded to preve t certai  perso s from maki g disruptive edits  such as va dalism .',\n",
              " '[   ][   ] fewer editors become admi istrators tha  i  years past  i  part because the process of vetti g pote tial wikipedia admi istrators has become more rigorous.',\n",
              " '[   ] bureaucrats  ame  ew admi istrators solely upo  the recomme datio s from the commu ity.',\n",
              " 'over time  wikipedia has developed a semi-formal dispute resolutio  process to assist i  such circumsta ces.',\n",
              " 'to determi e commu ity co se sus  editors ca  raise issues at appropriate commu ity forums [ ote  ] or seek outside i put through third opi io  requests or by i itiati g a more ge eral commu ity discussio  k ow  as a  request for comme t .',\n",
              " 'the arbitratio  committee presides over the ultimate dispute resolutio  process.',\n",
              " 'although disputes usually arise from a disagreeme t betwee  two opposi g views o  how a  article should read  the arbitratio  committee explicitly refuses to directly rule o  the specific view that should be adopted.',\n",
              " 'statistical a alyses suggest that the committee ig ores the co te t of disputes a d rather focuses o  the way disputes are co ducted [   ] fu ctio i g  ot so much to resolve disputes a d make peace betwee  co flicti g editors  but to weed out problematic editors while allowi g pote tially productive editors back i  to participate.',\n",
              " 'therefore  the committee does  ot dictate the co te t of articles  although it sometimes co dem s co te t cha ges whe  it deems the  ew co te t violates wikipedia policies  for example  if the  ew co te t is co sidered biased .',\n",
              " 'its remedies i clude cautio s a d probatio s  used i      of cases  a d ba  i g editors from articles        subject matters        or wikipedia      .',\n",
              " 'complete ba s from wikipedia are ge erally limited to i sta ces of imperso atio  a d a ti-social behavior.',\n",
              " 'whe  co duct is  ot imperso atio  or a ti-social  but rather a ti-co se sus or i  violatio  of editi g policies  remedies te d to be limited to war i gs.',\n",
              " '[   ] each article a d each user of wikipedia has a  associated  talk  page.',\n",
              " 'these form the primary commu icatio  cha  el for editors to discuss  coordi ate a d debate.',\n",
              " \"[   ] wikipedia's commu ity has bee  described as cultlike [   ] although  ot always with e tirely  egative co  otatio s.\",\n",
              " \"[   ] the project's prefere ce for cohesive ess  eve  if it requires compromise that i cludes disregard of crede tials  has bee  referred to as  a ti-elitism .\",\n",
              " '[   ] wikipedia s sometimes award o e a other virtual bar stars for good work.',\n",
              " 'these perso alized toke s of appreciatio  reveal a wide ra ge of valued work exte di g far beyo d simple editi g to i clude social support  admi istrative actio s  a d types of articulatio  work.',\n",
              " '[   ] wikipedia does  ot require that its editors a d co tributors provide ide tificatio .',\n",
              " '[   ] as wikipedia grew   who writes wikipedia  ',\n",
              " 'became o e of the questio s freque tly asked o  the project.',\n",
              " '[   ] jimmy wales o ce argued that o ly  a commu ity\\xa0... a dedicated group of a few hu dred volu teers  makes the bulk of co tributio s to wikipedia a d that the project is therefore  much like a y traditio al orga izatio  .',\n",
              " \"[   ] i        a slate magazi e article reported that   accordi g to researchers i  palo alto  o e perce t of wikipedia users are respo sible for about half of the site's edits.\",\n",
              " ' [   ] this method of evaluati g co tributio s was later disputed by aaro  swartz  who  oted that several articles he sampled had large portio s of their co te t  measured by  umber of characters  co tributed by users with low edit cou ts.',\n",
              " '[   ] the e glish wikipedia has           articles             registered editors  a d         active editors.',\n",
              " 'a  editor is co sidered active if they have made o e or more edits i  the past    days.',\n",
              " 'editors who fail to comply with wikipedia cultural rituals  such as sig i g talk page comme ts  may implicitly sig al that they are wikipedia outsiders  i creasi g the odds that wikipedia i siders may target or discou t their co tributio s.',\n",
              " 'becomi g a wikipedia i sider i volves  o -trivial costs  the co tributor is expected to lear  wikipedia-specific tech ological codes  submit to a sometimes co voluted dispute resolutio  process  a d lear  a  baffli g culture rich with i -jokes a d i sider refere ces .',\n",
              " '[   ] editors who do  ot log i  are i  some se se seco d-class citize s o  wikipedia [   ] as  participa ts are accredited by members of the wiki commu ity  who have a vested i terest i  preservi g the quality of the work product  o  the basis of their o goi g participatio   [   ] but the co tributio  histories of a o ymous u registered editors recog ized o ly by their ip addresses ca  ot be attributed to a particular editor with certai ty.',\n",
              " 'a      study by researchers from dartmouth college fou d that  a o ymous a d i freque t co tributors to wikipedia [...] are as reliable a source of k owledge as those co tributors who register with the site .',\n",
              " '[   ] jimmy wales stated i       that  [i]t tur s out over     of all the edits are do e by just .   of the users\\xa0...     people\\xa0... a d i  fact  the most active     which is      people  have do e   .   of all the edits.',\n",
              " ' [   ] however  busi ess i sider editor a d jour alist he ry blodget showed i       that i  a ra dom sample of articles  most co te t i  wikipedia  measured by the amou t of co tributed text that survives to the latest sampled edit  is created by  outsiders   while most editi g a d formatti g is do e by  i siders .',\n",
              " '[   ] a      study fou d that wikipedia s were less agreeable  ope   a d co scie tious tha  others [   ][   ] although a later comme tary poi ted out serious flaws  i cludi g that the data showed higher ope  ess a d that the differe ces with the co trol group a d the samples were small.',\n",
              " '[   ] accordi g to a      study  there is  evide ce of growi g resista ce from the wikipedia commu ity to  ew co te t .',\n",
              " '[   ] several studies have show  that most of the wikipedia co tributors are male.',\n",
              " 'notably  the results of a wikimedia fou datio  survey i       showed that o ly    perce t of wikipedia editors were female.',\n",
              " '[   ] because of this  u iversities throughout the u ited states tried to e courage females to become wikipedia co tributors.',\n",
              " 'similarly  ma y of these u iversities  i cludi g yale a d brow   gave college credit to stude ts who create or edit a  article relati g to wome  i  scie ce or tech ology.',\n",
              " '[   ] a drew lih  a professor a d scie tist  wrote i  the new york times that the reaso  he thought the  umber of male co tributors out umbered the  umber of females so greatly was because ide tifyi g as a woma  may expose o eself to  ugly  i timidati g behavior .',\n",
              " '[   ] data has show  that africa s are u derreprese ted amo g wikipedia editors.',\n",
              " '[   ] there are curre tly     la guage editio s of wikipedia  also called la guage versio s  or simply wikipedias .',\n",
              " 'as of ja uary       the six largest  i  order of article cou t  are the e glish  cebua o  swedish  germa   fre ch  a d dutch wikipedias.',\n",
              " '[   ] the seco d a d third largest wikipedias owe their positio  to the article-creati g bot lsjbot  which as of      had created about half the articles i  the swedish wikipedia  a d most of the articles i  the cebua o a d waray wikipedias.',\n",
              " 'the latter are both la guages of the philippi es.',\n",
              " 'i  additio  to the top six  twelve other wikipedias have more tha  a millio  articles each  russia   italia   spa ish  polish  waray  viet amese  japa ese  egyptia  arabic  chi ese  arabic  ukrai ia  a d portuguese   seve  more have over         articles  persia   catala   serbia   i do esia   norwegia   bokmål   korea  a d fi  ish      more have over          a d    more have over       .',\n",
              " '[   ][   ] the largest  the e glish wikipedia  has over  .  millio  articles.',\n",
              " \"as of ja uary\\xa0    [update]  accordi g to alexa  the e glish subdomai   e .wikipedia.org  e glish wikipedia  receives approximately     of wikipedia's cumulative traffic  with the remai i g split amo g the other la guages  russia       chi ese      japa ese      spa ish     .\",\n",
              " '[ ] distributio  of the            articles i  differe t la guage editio s  as of ja uary          [   ] the u it for the  umbers i  bars is articles.',\n",
              " 'si ce wikipedia is based o  the web a d therefore worldwide  co tributors to the same la guage editio  may use differe t dialects or may come from differe t cou tries  as is the case for the e glish editio  .',\n",
              " 'these differe ces may lead to some co flicts over spelli g differe ces  e.g.',\n",
              " 'colour versus color [   ] or poi ts of view.',\n",
              " '[   ] though the various la guage editio s are held to global policies such as   eutral poi t of view   they diverge o  some poi ts of policy a d practice  most  otably o  whether images that are  ot lice sed freely may be used u der a claim of fair use.',\n",
              " '[   ][   ][   ] jimmy wales has described wikipedia as  a  effort to create a d distribute a free e cyclopedia of the highest possible quality to every si gle perso  o  the pla et i  their ow  la guage .',\n",
              " '[   ] though each la guage editio  fu ctio s more or less i depe de tly  some efforts are made to supervise them all.',\n",
              " \"they are coordi ated i  part by meta-wiki  the wikimedia fou datio 's wiki devoted to mai tai i g all its projects  wikipedia a d others .\",\n",
              " '[   ] for i sta ce  meta-wiki provides importa t statistics o  all la guage editio s of wikipedia [   ] a d it mai tai s a list of articles every wikipedia should have.',\n",
              " '[   ] the list co cer s basic co te t by subject  biography  history  geography  society  culture  scie ce  tech ology  a d mathematics.',\n",
              " 'it is  ot rare for articles stro gly related to a particular la guage  ot to have cou terparts i  a other editio .',\n",
              " 'for example  articles about small tow s i  the u ited states might be available o ly i  e glish  eve  whe  they meet the  otability criteria of other la guage wikipedia projects.',\n",
              " 'tra slated articles represe t o ly a small portio  of articles i  most editio s  i  part because those editio s do  ot allow fully automated tra slatio  of articles.',\n",
              " '[   ] articles available i  more tha  o e la guage may offer  i terwiki li ks   which li k to the cou terpart articles i  other editio s.',\n",
              " 'a study published by plos o e i       also estimated the share of co tributio s to differe t editio s of wikipedia from differe t regio s of the world.',\n",
              " 'it reported that the proportio  of the edits made from north america was     for the e glish wikipedia  a d     for the simple e glish wikipedia.',\n",
              " '[   ] o  march          the eco omist  i  a  article titled  the future of wikipedia   cited a tre d a alysis co cer i g data published by the wikimedia fou datio  stati g that  [t]he  umber of editors for the e glish-la guage versio  has falle  by a third i  seve  years.',\n",
              " ' [   ] the attritio  rate for active editors i  e glish wikipedia was cited by the eco omist as substa tially i  co trast to statistics for wikipedia i  other la guages   o -e glish wikipedia .',\n",
              " 'the eco omist reported that the  umber of co tributors with a  average of five or more edits per mo th was relatively co sta t si ce      for wikipedia i  other la guages at approximately        editors withi   arrow seaso al varia ces of about       editors up or dow .',\n",
              " 'the  umber of active editors i  e glish wikipedia  by sharp compariso   was cited as peaki g i       at approximately        a d droppi g to        by the start of     .',\n",
              " 'should this attritio  have co ti ued u abated at the quoted tre d rate of approximately        editors lost withi  seve  years  by      there would be o ly        active editors o  e glish wikipedia.',\n",
              " '[   ] i  co trast  the tre d a alysis published i  the eco omist prese ts wikipedia i  other la guages   o -e glish wikipedia  as successful i  retai i g their active editors o  a re ewable a d sustai ed basis  with their  umbers remai i g relatively co sta t at approximately       .',\n",
              " '[   ] no comme t was made co cer i g which of the differe tiated edit policy sta dards from wikipedia i  other la guages   o -e glish wikipedia  would provide a possible alter ative to e glish wikipedia for effectively ameliorati g substa tial editor attritio  rates o  the e glish-la guage wikipedia.',\n",
              " \"[   ] various wikipedia s have criticized wikipedia's large a d growi g regulatio   which i cludes more tha  fifty policies a d  early         words as of     [update].\",\n",
              " '[   ][   ] critics have stated that wikipedia exhibits systemic bias.',\n",
              " 'i        colum ist a d jour alist edwi  black described wikipedia as bei g a mixture of  truth  half-truth  a d some falsehoods .',\n",
              " \"[   ] articles i  the chro icle of higher educatio  a d the jour al of academic libraria ship have criticized wikipedia's u due weight policy  co cludi g that the fact that wikipedia explicitly is  ot desig ed to provide correct i formatio  about a subject  but rather focus o  all the major viewpoi ts o  the subject  give less atte tio  to mi or o es  a d creates omissio s that ca  lead to false beliefs based o  i complete i formatio .\",\n",
              " '[   ][   ][   ] jour alists oliver kamm a d edwi  black alleged  i       a d      respectively  that articles are domi ated by the loudest a d most persiste t voices  usually by a group with a   ax to gri d  o  the topic.',\n",
              " '[   ][   ] a      article i  educatio  next jour al co cluded that as a resource about co troversial topics  wikipedia is subject to ma ipulatio  a d spi .',\n",
              " '[   ] i        the wikipedia watch criticism website listed doze s of examples of plagiarism i  the e glish wikipedia.',\n",
              " '[   ] articles for traditio al e cyclopedias such as e cyclopædia brita  ica are carefully a d deliberately writte  by experts  le di g such e cyclopedias a reputatio  for accuracy.',\n",
              " '[   ] however  a peer review i       of forty-two scie tific e tries o  both wikipedia a d e cyclopædia brita  ica by the scie ce jour al nature fou d few differe ces i  accuracy  a d co cluded that  the average scie ce e try i  wikipedia co tai ed arou d four i accuracies  brita  ica  about three.',\n",
              " ' [   ] joseph reagle suggested that while the study reflects  a topical stre gth of wikipedia co tributors  i  scie ce articles   wikipedia may  ot have fared so well usi g a ra dom sampli g of articles or o  huma ities subjects.',\n",
              " ' [   ] others raised similar critiques.',\n",
              " '[   ] the fi di gs by nature were disputed by e cyclopædia brita  ica [   ][   ] a d i  respo se  nature gave a rebuttal of the poi ts raised by brita  ica.',\n",
              " \"[   ] i  additio  to the poi t-for-poi t disagreeme t betwee  these two parties  others have exami ed the sample size a d selectio  method used i  the nature effort  a d suggested a  flawed study desig    i  nature's ma ual selectio  of articles  i  part or i  whole  for compariso    abse ce of statistical a alysis  e.g.  of reported co fide ce i tervals   a d a lack of study  statistical power   i.e.  owi g to small sample size     or  \\xa0×     articles compared  vs >    a d >    set sizes for brita  ica a d the e glish wikipedia  respectively .\",\n",
              " '[   ] as a co seque ce of the ope  structure  wikipedia  makes  o guara tee of validity  of its co te t  si ce  o o e is ultimately respo sible for a y claims appeari g i  it.',\n",
              " \"[   ] co cer s have bee  raised by pc world i       regardi g the lack of accou tability that results from users' a o ymity [   ] the i sertio  of false i formatio  [   ] va dalism  a d similar problems.\",\n",
              " 'eco omist tyler cowe  wrote   if i had to guess whether wikipedia or the media  refereed jour al article o  eco omics was more likely to be true after a  ot so lo g thi k i would opt for wikipedia. ',\n",
              " 'he comme ts that some traditio al sources of  o -fictio  suffer from systemic biases a d  ovel results  i  his opi io   are over-reported i  jour al articles a d releva t i formatio  is omitted from  ews reports.',\n",
              " 'however  he also cautio s that errors are freque tly fou d o  i ter et sites a d that academics a d experts must be vigila t i  correcti g them.',\n",
              " \"[   ] critics argue that wikipedia's ope   ature a d a lack of proper sources for most of the i formatio  makes it u reliable.\",\n",
              " '[   ] some comme tators suggest that wikipedia may be reliable  but that the reliability of a y give  article is  ot clear.',\n",
              " \"[   ] editors of traditio al refere ce works such as the e cyclopædia brita  ica have questio ed the project's utility a d status as a  e cyclopedia.\",\n",
              " '[   ] wikipedia co-fou der jimmy wales has claimed that wikipedia has largely avoided the problem of  fake  ews  because the wikipedia commu ity regularly debates the quality of sources i  articles.',\n",
              " \"[   ] wikipedia's ope  structure i here tly makes it a  easy target for i ter et trolls  spammers  a d various forms of paid advocacy see  as cou terproductive to the mai te a ce of a  eutral a d verifiable o li e e cyclopedia.\",\n",
              " '[  ][   ]\\ni  respo se to paid advocacy editi g a d u disclosed editi g issues  wikipedia was reported i  a  article i  the wall street jour al  to have stre gthe ed its rules a d laws agai st u disclosed editi g.',\n",
              " \"[   ] the article stated that   begi  i g mo day [from the date of the article  ju e         ]  cha ges i  wikipedia's terms of use will require a yo e paid to edit articles to disclose that arra geme t.\",\n",
              " \"katheri e maher  the  o profit wikimedia fou datio 's chief commu icatio s officer  said the cha ges address a se time t amo g volu teer editors that  'we're  ot a  advertisi g service  we're a  e cyclopedia.\",\n",
              " \"' [   ][   ][   ][   ][   ] these issues  amo g others  had bee  parodied si ce the first decade of wikipedia   otably by stephe  colbert o  the colbert report.\",\n",
              " '[   ] a harvard law textbook  legal research i  a nutshell         cites wikipedia as a  ge eral source  that  ca  be a real boo   i   comi g up to speed i  the law gover i g a situatio   a d   while  ot authoritative  ca  provide basic facts as well as leads to more i -depth resources .',\n",
              " '[   ] most u iversity lecturers discourage stude ts from citi g a y e cyclopedia i  academic work  preferri g primary sources [   ] some specifically prohibit wikipedia citatio s.',\n",
              " '[   ][   ] wales stresses that e cyclopedias of a y type are  ot usually appropriate to use as citable sources  a d should  ot be relied upo  as authoritative.',\n",
              " '[   ] wales o ce       or earlier  said he receives about te  emails weekly from stude ts sayi g they got faili g grades o  papers because they cited wikipedia  he told the stude ts they got what they deserved.',\n",
              " \" for god's sake  you're i  college  do 't cite the e cyclopedia   he said.\",\n",
              " '[   ] i  february       a  article i  the harvard crimso   ewspaper reported that a few of the professors at harvard u iversity were i cludi g wikipedia articles i  their syllabi  although without realizi g the articles might cha ge.',\n",
              " '[   ] i  ju e       former preside t of the america  library associatio  michael gorma  co dem ed wikipedia  alo g with google [   ] stati g that academics who e dorse the use of wikipedia are  the i tellectual equivale t of a dietitia  who recomme ds a steady diet of big macs with everythi g .',\n",
              " 'i  co trast  academic writi g[clarificatio   eeded] i  wikipedia has evolved i  rece t years a d has bee  fou d to i crease stude t i terest  perso al co  ectio  to the product  creativity i  material processi g  a d i ter atio al collaboratio  i  the lear i g process.',\n",
              " \"[   ] o  march          julie beck writi g for the atla tic magazi e i  a  article titled  doctors'    source for healthcare i formatio   wikipedia   stated that  fifty perce t of physicia s look up co ditio s o  the  wikipedia  site  a d some are editi g articles themselves to improve the quality of available i formatio .\",\n",
              " \" [   ] beck co ti ued to detail i  this article  ew programs of ami  azzam at the u iversity of sa  fra cisco to offer medical school courses to medical stude ts for lear i g to edit a d improve wikipedia articles o  health-related issues  as well as i ter al quality co trol programs withi  wikipedia orga ized by james heilma  to improve a group of     health-related articles of ce tral medical importa ce up to wikipedia's highest sta dard of articles usi g its featured article a d good article peer-review evaluatio  process.\",\n",
              " '[   ] i  a may          follow-up article i  the atla tic titled  ca  wikipedia ever be a defi itive medical text ',\n",
              " \"   julie beck quotes wikiproject medici e's james heilma  as stati g   just because a refere ce is peer-reviewed does 't mea  it's a high-quality refere ce.\",\n",
              " \" [   ] beck added that   wikipedia has its ow  peer review process before articles ca  be classified as 'good' or 'featured'.\",\n",
              " \"heilma   who has participated i  that process before  says 'less tha  o e perce t' of wikipedia's medical articles have passed.\",\n",
              " ' [   ] i        researchers at car egie mello  u iversity fou d that the quality of a wikipedia article would suffer rather tha  gai  from addi g more writers whe  the article lacked appropriate explicit or implicit coordi atio .',\n",
              " '[   ] for i sta ce  whe  co tributors rewrite small portio s of a  e try rather tha  maki g full-le gth revisio s  high- a d low-quality co te t may be i termi gled withi  a  e try.',\n",
              " 'roy rose zweig  a history professor  stated that america  natio al biography o li e outperformed wikipedia i  terms of its  clear a d e gagi g prose   which  he said  was a  importa t aspect of good historical writi g.',\n",
              " \"[   ] co trasti g wikipedia's treatme t of abraham li col  to that of civil war historia  james mcpherso  i  america  natio al biography o li e  he said that both were esse tially accurate a d covered the major episodes i  li col 's life  but praised  mcpherso 's richer co textualizatio  [...] his artful use of quotatio s to capture li col 's voice [...] a d [...] his ability to co vey a profou d message i  a ha dful of words. \",\n",
              " \"by co trast  he gives a  example of wikipedia's prose that he fi ds  both verbose a d dull .\",\n",
              " 'rose zweig also criticized the  waffli g—e couraged by the npov policy—[which] mea s that it is hard to discer  a y overall i terpretive sta ce i  wikipedia history .',\n",
              " 'while ge erally praisi g the article o  william clarke qua trill  he quoted its co clusio  as a  example of such  waffli g   which the  stated   some historia s [...] remember him as a  opportu istic  bloodthirsty outlaw  while others co ti ue to view him as a dari g soldier a d local folk hero.',\n",
              " ' [   ] other critics have made similar charges that  eve  if wikipedia articles are factually accurate  they are ofte  writte  i  a poor  almost u readable style.',\n",
              " 'freque t wikipedia critic a drew orlowski comme ted   eve  whe  a wikipedia e try is     perce t factually correct  a d those facts have bee  carefully chose   it all too ofte  reads as if it has bee  tra slated from o e la guage to a other the  i to a third  passi g a  illiterate tra slator at each stage.',\n",
              " ' [   ] a study of wikipedia articles o  ca cer was co ducted i       by yaacov lawre ce of the kimmel ca cer ce ter at thomas jefferso  u iversity.',\n",
              " 'the study was limited to those articles that could be fou d i  the physicia  data query a d excluded those writte  at the  start  class or  stub  class level.',\n",
              " \"lawre ce fou d the articles accurate but  ot very readable  a d thought that  wikipedia's lack of readability  to  o -college readers  may reflect its varied origi s a d haphazard editi g .\",\n",
              " '[   ] the eco omist argued that better-writte  articles te d to be more reliable   i elega t or ra ti g prose usually reflects muddled thoughts a d i complete i formatio  .',\n",
              " '[   ] wikipedia seeks to create a summary of all huma  k owledge i  the form of a  o li e e cyclopedia  with each topic covered e cyclopedically i  o e article.',\n",
              " 'si ce it has terabytes of disk space  it ca  have far more topics tha  ca  be covered by a y pri ted e cyclopedia.',\n",
              " '[   ] the exact degree a d ma  er of coverage o  wikipedia is u der co sta t review by its editors  a d disagreeme ts are  ot u commo   see deletio ism a d i clusio ism .',\n",
              " '[   ][   ] wikipedia co tai s materials that some people may fi d objectio able  offe sive  or por ographic.',\n",
              " \"the 'wikipedia is  ot ce sored' policy has sometimes proved co troversial  i        wikipedia rejected a  o li e petitio  agai st the i clusio  of images of muhammad i  the e glish editio  of its muhammad article  citi g this policy.\",\n",
              " 'the prese ce of politically  religiously  a d por ographically se sitive materials i  wikipedia has led to the ce sorship of wikipedia by  atio al authorities i  chi a[   ] a d pakista  [   ] amo gst other cou tries.',\n",
              " 'a      study co ducted by researchers at car egie mello  u iversity a d palo alto research ce ter gave a distributio  of topics as well as growth  from july      to ja uary       i  each field [   ] these  umbers refer o ly to the  umber of articles  it is possible for o e topic to co tai  a large  umber of short articles a d a other to co tai  a small  umber of large o es.',\n",
              " 'through its  wikipedia loves libraries  program  wikipedia has part ered with major public libraries such as the new york public library for the performi g arts to expa d its coverage of u derreprese ted subjects a d articles.',\n",
              " '[   ] a      study co ducted by researchers at the u iversity of mi  esota i dicated that male a d female editors focus o  differe t coverage topics.',\n",
              " 'there was a greater co ce tratio  of females i  the people a d arts category  while males focus more o  geography a d scie ce.',\n",
              " '[   ] research co ducted by mark graham of the oxford i ter et i stitute i       i dicated that the geographic distributio  of article topics is highly u eve .',\n",
              " 'africa is the most u derreprese ted.',\n",
              " '[   ] across    la guage editio s of wikipedia  historical articles a d sectio s are ge erally euroce tric a d focused o  rece t eve ts.',\n",
              " '[   ] a  editorial i  the guardia  i       claimed that more effort we t i to providi g refere ces for a list of female por  actors tha  a list of wome  writers.',\n",
              " '[   ] data has also show  that africa-related material ofte  faces omissio   a k owledge gap that a july      wikimedia co fere ce i  cape tow  sought to address.',\n",
              " '[   ] whe  multiple editors co tribute to o e topic or set of topics  systemic bias may arise  due to the demographic backgrou ds of the editors.',\n",
              " 'i        wales claimed that the u eve  ess of coverage is a reflectio  of the demography of the editors  citi g for example  biographies of famous wome  through history a d issues surrou di g early childcare .',\n",
              " \"[  ] the october           essay by tom simo ite i  mit's tech ology review titled  the decli e of wikipedia  discussed the effect of systemic bias a d policy creep o  the dow ward tre d i  the  umber of editors.\",\n",
              " '[  ] systemic bias o  wikipedia may follow that of culture ge erally [vague] for example favori g certai   atio alities  eth icities or majority religio s.',\n",
              " '[   ] it may more specifically follow the biases of i ter et culture  i cli i g to be you g  male  e glish-speaki g  educated  tech ologically aware  a d wealthy e ough to spare time for editi g.',\n",
              " 'biases  i tri sically  may i clude a  overemphasis o  topics such as pop culture  tech ology  a d curre t eve ts.',\n",
              " '[   ] taha yasseri of the u iversity of oxford  i        studied the statistical tre ds of systemic bias at wikipedia i troduced by editi g co flicts a d their resolutio .',\n",
              " '[   ][   ] his research exami ed the cou terproductive work behavior of edit warri g.',\n",
              " 'yasseri co te ded that simple reverts or  u do  operatio s were  ot the most sig ifica t measure of cou terproductive behavior at wikipedia a d relied i stead o  the statistical measureme t of detecti g  reverti g/reverted pairs  or  mutually reverti g edit pairs .',\n",
              " 'such a  mutually reverti g edit pair  is defi ed where o e editor reverts the edit of a other editor who the   i  seque ce  retur s to revert the first editor i  the  mutually reverti g edit pairs .',\n",
              " 'the results were tabulated for several la guage versio s of wikipedia.',\n",
              " \"the e glish wikipedia's three largest co flict rates belo ged to the articles george w. bush  a archism  a d muhammad.\",\n",
              " '[   ] by compariso   for the germa  wikipedia  the three largest co flict rates at the time of the oxford study were for the articles coveri g croatia  scie tology  a d  /   co spiracy theories.',\n",
              " \"[   ] researchers from washi gto  u iversity developed a statistical model to measure systematic bias i  the behavior of wikipedia's users regardi g co troversial topics.\",\n",
              " \"the authors focused o  behavioral cha ges of the e cyclopedia's admi istrators after assumi g the post  writi g that systematic bias occurred after the fact.\",\n",
              " '[   ][   ] wikipedia has bee  criticized for allowi g i formatio  about graphic co te t.',\n",
              " 'articles depicti g what some critics have called objectio able co te t  such as feces  cadaver  huma  pe is  vulva  a d  udity  co tai  graphic pictures a d detailed i formatio  easily available to a yo e with access to the i ter et  i cludi g childre .',\n",
              " 'the site also i cludes sexual co te t such as images a d videos of masturbatio  a d ejaculatio   illustratio s of zoophilia  a d photos from hardcore por ographic films i  its articles.',\n",
              " 'it also has  o -sexual photographs of  ude childre .',\n",
              " \"the wikipedia article about virgi  killer—a      album from the germa  rock ba d scorpio s—features a picture of the album's origi al cover  which depicts a  aked prepubesce t girl.\",\n",
              " 'the origi al release cover caused co troversy a d was replaced i  some cou tries.',\n",
              " \"i  december       access to the wikipedia article virgi  killer was blocked for four days by most i ter et service providers i  the u ited ki gdom after the i ter et watch fou datio   iwf  decided the album cover was a pote tially illegal i dece t image a d added the article's url to a  blacklist  it supplies to british i ter et service providers.\",\n",
              " '[   ] i  april       sa ger wrote a letter to the federal bureau of i vestigatio   outli i g his co cer s that two categories of images o  wikimedia commo s co tai ed child por ography  a d were i  violatio  of us federal obsce ity law.',\n",
              " '[   ][   ] sa ger later clarified that the images  which were related to pedophilia a d o e about lolico   were  ot of real childre   but said that they co stituted  obsce e visual represe tatio s of the sexual abuse of childre    u der the protect act of     .',\n",
              " '[   ] that law ba s photographic child por ography a d cartoo  images a d drawi gs of childre  that are obsce e u der america  law.',\n",
              " '[   ] sa ger also expressed co cer s about access to the images o  wikipedia i  schools.',\n",
              " \"[   ] wikimedia fou datio  spokesma  jay walsh stro gly rejected sa ger's accusatio  [   ] sayi g that wikipedia did  ot have  material we would deem to be illegal.\",\n",
              " 'if we did  we would remove it.',\n",
              " ' [   ] followi g the complai t by sa ger  wales deleted sexual images without co sulti g the commu ity.',\n",
              " 'after some editors who volu teer to mai tai  the site argued that the decisio  to delete had bee  made hastily  wales volu tarily gave up some of the powers he had held up to that time as part of his co-fou der status.',\n",
              " 'he wrote i  a message to the wikimedia fou datio  maili g-list that this actio  was  i  the i terest of e couragi g this discussio  to be about real philosophical/co te t issues  rather tha  be about me a d how quickly i acted .',\n",
              " '[   ] critics  i cludi g wikipediocracy   oticed that ma y of the por ographic images deleted from wikipedia si ce      have reappeared.',\n",
              " '[   ] o e privacy co cer  i  the case of wikipedia is the right of a private citize  to remai  a  private citize   rather tha  a  public figure  i  the eyes of the law.',\n",
              " '[   ][ ote  ] it is a battle betwee  the right to be a o ymous i  cyberspace a d the right to be a o ymous i  real life   meatspace  .',\n",
              " 'a particular problem occurs i  the case of a relatively u importa t i dividual a d for whom there exists a wikipedia page agai st her or his wishes.',\n",
              " 'i  ja uary       a germa  court ordered the germa  wikipedia shut dow  withi  germa y because it stated the full  ame of boris floricic  aka  tro    a deceased hacker.',\n",
              " \"o  february          the i ju ctio  agai st wikimedia deutschla d was overtur ed  with the court rejecti g the  otio  that tro 's right to privacy or that of his pare ts was bei g violated.\",\n",
              " '[   ] wikipedia has a  volu teer respo se team  that uses the otrs system to ha dle queries without havi g to reveal the ide tities of the i volved parties.',\n",
              " 'this is used  for example  i  co firmi g the permissio  for usi g i dividual images a d other media i  the project.',\n",
              " '[   ] wikipedia has bee  described as harbori g a battlegrou d culture of sexism a d harassme t.',\n",
              " '[   ][   ] the perceived toxic attitudes a d tolera ce of viole t a d abusive la guage are also reaso s put forth for the ge der gap i  wikipedia editors.',\n",
              " '[   ] i        a female editor who requested a separate space o  wikipedia to discuss improvi g civility had her proposal referred to by a male editor usi g the words  the easiest way to avoid bei g called a cu t is  ot to act like o e .',\n",
              " '[   ] wikipedia is hosted a d fu ded by the wikimedia fou datio   a  o -profit orga izatio  which also operates wikipedia-related projects such as wiktio ary a d wikibooks.',\n",
              " 'the fou datio  relies o  public co tributio s a d gra ts to fu d its missio .',\n",
              " \"[   ] the fou datio 's      irs form     shows reve ue of    . \\xa0millio  a d expe ses of almost    \\xa0millio   with assets of    . \\xa0millio  a d liabilities of about   . \\xa0millio .\",\n",
              " '[   ] i  may       wikimedia fou datio   amed lila tretikov as its seco d executive director  taki g over for sue gard er.',\n",
              " \"[   ] the wall street jour al reported o  may          that tretikov's i formatio  tech ology backgrou d from her years at u iversity of califor ia offers wikipedia a  opportu ity to develop i  more co ce trated directio s guided by her ofte  repeated positio  stateme t that   i formatio   like air  wa ts to be free.\",\n",
              " ' [   ][   ] the same wall street jour al article reported these directio s of developme t accordi g to a  i terview with spokesma  jay walsh of wikimedia  who  said tretikov would address that issue  paid advocacy  as a priority.',\n",
              " \"'we are really pushi g toward more tra spare cy\\xa0... we are rei forci g that paid advocacy is  ot welcome.'\",\n",
              " 'i itiatives to i volve greater diversity of co tributors  better mobile support of wikipedia   ew geo-locatio  tools to fi d local co te t more easily  a d more tools for users i  the seco d a d third world are also priorities   walsh said.',\n",
              " '[   ] followi g the departure of tretikov from wikipedia due to issues co cer i g the use of the  superprotectio   feature which some la guage versio s of wikipedia have adopted  katheri e maher became the third executive director of the wikimedia fou datio  i  ju e     .',\n",
              " '[   ] maher has stated that o e of her priorities would be the issue of editor harassme t e demic to wikipedia as ide tified by the wikipedia board i  december.',\n",
              " 'maher stated regardi g the harassme t issue that   it establishes a se se withi  the commu ity that this is a priority\\xa0...  a d that correctio  requires that  it has to be more tha  words.',\n",
              " ' [   ] wikipedia is also supported by ma y orga izatio s a d groups that are affiliated with the wikimedia fou datio  but i depe de tly-ru   called wikimedia moveme t affiliates.',\n",
              " 'these i clude wikimedia chapters  which are  atio al or sub- atio al orga izatio s  such as wikimedia deutschla d a d wikimédia fra ce   thematic orga izatio s  such as amical wikimedia for the catala  la guage commu ity   a d user groups.',\n",
              " 'these affiliates participate i  the promotio   developme t  a d fu di g of wikipedia.',\n",
              " 'the operatio  of wikipedia depe ds o  mediawiki  a custom-made  free a d ope  source wiki software platform writte  i  php a d built upo  the mysql database system.',\n",
              " '[   ] the software i corporates programmi g features such as a macro la guage  variables  a tra sclusio  system for templates  a d url redirectio .',\n",
              " 'mediawiki is lice sed u der the gnu ge eral public lice se  gpl  a d it is used by all wikimedia projects  as well as ma y other wiki projects.',\n",
              " 'origi ally  wikipedia ra  o  usemodwiki writte  i  perl by clifford adams  phase i   which i itially required camelcase for article hyperli ks  the prese t double bracket style was i corporated later.',\n",
              " 'starti g i  ja uary       phase ii   wikipedia bega  ru  i g o  a php wiki e gi e with a mysql database  this software was custom-made for wikipedia by mag us ma ske.',\n",
              " 'the phase ii software was repeatedly modified to accommodate the expo e tially i creasi g dema d.',\n",
              " 'i  july       phase iii   wikipedia shifted to the third-ge eratio  software  mediawiki  origi ally writte  by lee da iel crocker.',\n",
              " 'several mediawiki exte sio s are i stalled[   ] to exte d the fu ctio ality of the mediawiki software.',\n",
              " \"i  april       a luce e exte sio [   ][   ] was added to mediawiki's built-i  search a d wikipedia switched from mysql to luce e for searchi g.\",\n",
              " 'the site curre tly uses luce e search  .  [   ][ eeds update] which is writte  i  java a d based o  luce e library  . .',\n",
              " '[   ] i  july       after exte sive beta testi g  a wysiwyg  what you see is what you get  exte sio   visualeditor  was ope ed to public use.',\n",
              " '[   ][   ][   ][   ] it was met with much rejectio  a d criticism  a d was described as  slow a d buggy .',\n",
              " '[   ] the feature was cha ged from opt-out to opt-i  afterward.',\n",
              " 'computer programs called bots have ofte  bee  used to perform simple a d repetitive tasks  such as correcti g commo  misspelli gs a d stylistic issues  or to start articles such as geography e tries i  a sta dard format from statistical data.',\n",
              " '[   ][   ][   ] o e co troversial co tributor  sverker joha sso \\xa0[sv]  creati g articles with his bot was reported to create up to        articles o  the swedish wikipedia o  certai  days.',\n",
              " '[   ] additio ally  there are bots desig ed to automatically  otify editors whe  they make commo  editi g errors  such as u matched quotes or u matched pare theses .',\n",
              " '[   ] edits falsely ide tified by bots as the work of a ba  ed editor ca  be restored by other editors.',\n",
              " 'a  a ti-va dal bot is programmed to detect a d revert va dalism quickly.',\n",
              " '[   ] bots are able to i dicate edits from particular accou ts or ip address ra ges  as occurred at the time of the shooti g dow  of the mh   jet i cide t i  july      whe  it was reported edits were made via ips co trolled by the russia  gover me t.',\n",
              " '[   ] bots o  wikipedia must be approved before activatio .',\n",
              " '[   ] accordi g to a drew lih  the curre t expa sio  of wikipedia to millio s of articles would be difficult to e visio  without the use of such bots.',\n",
              " '[   ] wikipedia receives betwee         a d       -page requests per seco d  depe di g o  the time of the day.',\n",
              " '[   ][ eeds update] as of     [update]  page requests are first passed to a fro t-e d layer of var ish cachi g servers.',\n",
              " '[   ][ eeds update] further statistics  based o  a publicly available  -mo th wikipedia access trace  are available.',\n",
              " '[   ] requests that ca  ot be served from the var ish cache are se t to load-bala ci g servers ru  i g the li ux virtual server software  which i  tur  pass them to o e of the apache web servers for page re deri g from the database.',\n",
              " 'the web servers deliver pages as requested  performi g page re deri g for all the la guage editio s of wikipedia.',\n",
              " 'to i crease speed further  re dered pages are cached i  a distributed memory cache u til i validated  allowi g page re deri g to be skipped e tirely for most commo  page accesses.',\n",
              " '[citatio   eeded] wikipedia curre tly ru s o  dedicated clusters of li ux servers  mai ly ubu tu .',\n",
              " '[   ][   ][ eeds update] as of december\\xa0    [update]  there were     i  florida a d    i  amsterdam.',\n",
              " '[   ] by ja uary           wikipedia had migrated its primary data ce ter to a  equi ix facility i  ashbur   virgi ia.',\n",
              " '[   ][   ] i        wikipedia had i stalled a cachi g cluster i  a  equi ix facility i  si gapore  the first of its ki d i  asia.',\n",
              " '[   ] followi g growi g amou ts of i comi g do atio s exceedi g seve  digits i       as rece tly reported [  ] the fou datio  has reached a threshold of assets which qualify its co sideratio  u der the pri ciples of i dustrial orga izatio  eco omics to i dicate the  eed for the re-i vestme t of do atio s i to the i ter al research a d developme t of the fou datio .',\n",
              " '[   ] two of the rece t projects of such i ter al research a d developme t have bee  the creatio  of a visual editor a d a largely u der-utilized  tha k  tab which were developed to ameliorate issues of editor attritio   which have met with limited success.',\n",
              " '[  ][   ] the estimates for rei vestme t by i dustrial orga izatio s i to i ter al research a d developme t was studied by adam jaffe  who recorded that the ra ge of    to     a  ually was to be recomme ded  with high-e d tech ology requiri g the higher level of support for i ter al rei vestme t.',\n",
              " '[   ] at the      level of co tributio s for wikimedia prese tly docume ted as   \\xa0millio  dollars  the computed budget level recomme ded by jaffe a d caballero for rei vestme t i to i ter al research a d developme t is betwee   . \\xa0millio  a d   . \\xa0millio  dollars a  ually.',\n",
              " '[   ] i        the level of co tributio s were reported by bloomberg news as bei g at    \\xa0millio  a  ually  updati g the jaffe estimates for the higher level of support to betwee    .  \\xa0millio  a d    . \\xa0millio  a  ually.',\n",
              " \"[   ] commu ity-produced  ews publicatio s i clude the e glish wikipedia's the sig post  fou ded i       by michael s ow  a  attor ey  wikipedia admi istrator  a d former chair of the wikimedia fou datio  board of trustees.\",\n",
              " '[   ] it covers  ews a d eve ts from the site  as well as major eve ts from other wikimedia projects  such as wikimedia commo s.',\n",
              " 'similar publicatio s are the germa -la guage kurier  a d the portuguese-la guage correio da wikipédia.',\n",
              " 'other past a d prese t commu ity  ews publicatio s o  e glish wikipedia i clude the wikiworld webcomic  the wikipedia weekly podcast  a d  ewsletters of specific wikiprojects like the bugle from wikiproject military history a d the mo thly  ewsletter from the guild of copy editors.',\n",
              " 'there are also several publicatio s from the wikimedia fou datio  a d multili gual publicatio s such as wikimedia diff a d this mo th i  educatio .',\n",
              " 'whe  the project was started i        all text i  wikipedia was covered by the gnu free docume tatio  lice se  gfdl   a copyleft lice se permitti g the redistributio   creatio  of derivative works  a d commercial use of co te t while authors retai  copyright of their work.',\n",
              " '[   ] the gfdl was created for software ma uals that come with free software programs lice sed u der the gpl.',\n",
              " 'this made it a poor choice for a ge eral refere ce work  for example  the gfdl requires the repri ts of materials from wikipedia to come with a full copy of the gfdl text.',\n",
              " 'i  december       the creative commo s lice se was released  it was specifically desig ed for creative works i  ge eral   ot just for software ma uals.',\n",
              " 'the lice se gai ed popularity amo g bloggers a d others distributi g creative works o  the web.',\n",
              " 'the wikipedia project sought the switch to the creative commo s.',\n",
              " '[   ] because the two lice ses  gfdl a d creative commo s  were i compatible  i  november       followi g the request of the project  the free software fou datio   fsf  released a  ew versio  of the gfdl desig ed specifically to allow wikipedia to relice se its co te t to cc by-sa by august        .',\n",
              " ' a  ew versio  of the gfdl automatically covers wikipedia co te ts. ',\n",
              " 'i  april       wikipedia a d its sister projects held a commu ity-wide refere dum which decided the switch i  ju e     .',\n",
              " '[   ][   ][   ][   ] the ha dli g of media files  e.g.',\n",
              " 'image files  varies across la guage editio s.',\n",
              " 'some la guage editio s  such as the e glish wikipedia  i clude  o -free image files u der fair use doctri e  while the others have opted  ot to  i  part because of the lack of fair use doctri es i  their home cou tries  e.g.',\n",
              " 'i  japa ese copyright law .',\n",
              " 'media files covered by free co te t lice ses  e.g.',\n",
              " \"creative commo s' cc by-sa  are shared across la guage editio s via wikimedia commo s repository  a project operated by the wikimedia fou datio .\",\n",
              " \"wikipedia's accommodatio  of varyi g i ter atio al copyright laws regardi g images has led some to observe that its photographic coverage of topics lags behi d the quality of the e cyclopedic text.\",\n",
              " '[   ] the wikimedia fou datio  is  ot a lice sor of co te t  but merely a hosti g service for the co tributors  a d lice sors  of the wikipedia.',\n",
              " 'this positio  has bee  successfully defe ded i  court.',\n",
              " '[   ][   ] because wikipedia co te t is distributed u der a  ope  lice se  a yo e ca  reuse or re-distribute it at  o charge.',\n",
              " 'the co te t of wikipedia has bee  published i  ma y forms  both o li e a d offli e  outside the wikipedia website.',\n",
              " 'obtai i g the full co te ts of wikipedia for reuse prese ts challe ges  si ce direct clo i g via a web crawler is discouraged.',\n",
              " \"[   ] wikipedia publishes  dumps  of its co te ts  but these are text-o ly  as of     [update] there was  o dump available of wikipedia's images.\",\n",
              " '[   ] several la guages of wikipedia also mai tai  a refere ce desk  where volu teers a swer questio s from the ge eral public.',\n",
              " 'accordi g to a study by p i a shachaf i  the jour al of docume tatio   the quality of the wikipedia refere ce desk is comparable to a sta dard library refere ce desk  with a  accuracy of    perce t.',\n",
              " \"[   ] wikipedia's origi al medium was for users to read a d edit co te t usi g a y sta dard web browser through a fixed i ter et co  ectio .\",\n",
              " 'although wikipedia co te t has bee  accessible through the mobile web si ce july       the new york times o  february          quoted erik möller  deputy director of the wikimedia fou datio   stati g that the tra sitio  of i ter et traffic from desktops to mobile devices was sig ifica t a d a cause for co cer  a d worry.',\n",
              " '[ ] the article i  the new york times reported the compariso  statistics for mobile edits stati g that   o ly    perce t of the readership of the e glish-la guage wikipedia comes via mobile devices  a figure substa tially lower tha  the perce tage of mobile traffic for other media sites  ma y of which approach    perce t.',\n",
              " 'a d the shift to mobile editi g has lagged eve  more.',\n",
              " ' [ ] the new york times reports that möller has assig ed  a team of    software developers focused o  mobile   out of a total of approximately     employees worki g at the wikimedia fou datio .',\n",
              " 'o e pri cipal co cer  cited by the new york times for the  worry  is for wikipedia to effectively address attritio  issues with the  umber of editors which the o li e e cyclopedia attracts to edit a d mai tai  its co te t i  a mobile access e viro me t.',\n",
              " \"[ ] bloomberg busi essweek reported i  july      that google's a droid mobile apps have domi ated the largest share of global smartpho e shipme ts for      with   .   of market share over their  ext closest competitor i  ios with   .   of the market.\",\n",
              " '[   ] at the time of the tretikov appoi tme t a d her posted web i terview with sue gard er i  may       wikimedia represe tatives made a tech ical a  ou ceme t co cer i g the  umber of mobile access systems i  the market seeki g access to wikipedia.',\n",
              " 'directly after the posted web i terview  the represe tatives stated that wikimedia would be applyi g a  all-i clusive approach to accommodate as ma y mobile access systems as possible i  its efforts for expa di g ge eral mobile access  i cludi g blackberry a d the wi dows pho e system  maki g market share a seco dary issue.',\n",
              " '[   ] the latest versio  of the a droid app for wikipedia was released o  july           to ge erally positive reviews  scori g over four of a possible five i  a poll of approximately         users dow loadi g from google.',\n",
              " '[   ] the latest versio  for ios was released o  april          to similar reviews.',\n",
              " '[   ] access to wikipedia from mobile pho es was possible as early as       through the wireless applicatio  protocol  wap   via the wapedia service.',\n",
              " 'i  ju e      wikipedia lau ched e .mobile.wikipedia.org  a  official website for wireless devices.',\n",
              " 'i       a  ewer mobile service was officially released [   ] located at e .m.wikipedia.org  which caters to more adva ced mobile devices such as the ipho e  a droid-based devices or webos-based devices.',\n",
              " 'several other methods of mobile access to wikipedia have emerged.',\n",
              " 'ma y devices a d applicatio s optimize or e ha ce the display of wikipedia co te t for mobile devices  while some also i corporate additio al features such as use of wikipedia metadata  see wikipedia metadata   such as geoi formatio .',\n",
              " '[   ][   ] wikipedia zero was a  i itiative of the wikimedia fou datio  to expa d the reach of the e cyclopedia to the developi g cou tries.',\n",
              " '[   ] it was disco ti ued i  february     .',\n",
              " '[   ] a drew lih a d a drew brow  both mai tai  editi g wikipedia with smartpho es is difficult a d this discourages  ew pote tial co tributors.',\n",
              " 'the  umber of wikipedia editors has bee  decli i g after several years a d tom simo ite of mit tech ology review claims the bureaucratic structure a d rules are a factor i  this.',\n",
              " 'simo ite alleges some wikipedia s use the labyri thi e rules a d guideli es to domi ate others a d those editors have a vested i terest i  keepi g the status quo.',\n",
              " '[  ] lih alleges there is a serious disagreeme t amo g existi g co tributors o  how to resolve this.',\n",
              " \"lih fears for wikipedia's lo g-term future while brow  fears problems with wikipedia will remai  a d rival e cyclopedias will  ot replace it.\",\n",
              " '[   ][   ] i      –    after a barrage of false  ews reports  both facebook a d youtube a  ou ced they would rely o  wikipedia to help their users evaluate reports a d reject false  ews.',\n",
              " \"noam cohe   writi g i  the washi gto  post states   youtube's relia ce o  wikipedia to set the record straight builds o  the thi ki g of a other fact-challe ged platform  the facebook social  etwork  which a  ou ced last year that wikipedia would help its users root out 'fake  ews'.\",\n",
              " ' [  ] as of november       alexa records the daily pageviews per visitor as  .   a d the average daily time o  site as      mi utes.',\n",
              " '[ ] i  february       the new york times reported that wikipedia was ra ked fifth globally amo g all websites  stati g  with    billio  page views a d  early     millio  u ique visitors a mo th [...] wikipedia trails just yahoo  facebook  microsoft a d google  the largest with  .  billio  u ique visitors.',\n",
              " ' [ ] however  its ra ki g dropped to   th globally by ju e      due mostly to a rise i  popularity of chi ese websites for o li e shoppi g.',\n",
              " '[   ] i  additio  to logistic growth i  the  umber of its articles [   ] wikipedia has steadily gai ed status as a ge eral refere ce website si ce its i ceptio  i      .',\n",
              " '[   ] about    perce t of search e gi e traffic to wikipedia comes from google [   ] a good portio  of which is related to academic research.',\n",
              " '[   ] the  umber of readers of wikipedia worldwide reached    \\xa0millio  at the e d of     .',\n",
              " '[   ] the pew i ter et a d america  life project fou d that o e third of us i ter et users co sulted wikipedia.',\n",
              " '[   ] i       busi ess i sider gave wikipedia a valuatio  of   \\xa0billio  if it ra  advertiseme ts.',\n",
              " '[   ] accordi g to  wikipedia readership survey        the average age of wikipedia readers is     with a rough parity betwee  ge ders.',\n",
              " 'almost half of wikipedia readers visit the site more tha  five times a mo th  a d a similar  umber of readers specifically look for wikipedia i  search e gi e results.',\n",
              " 'about    perce t of wikipedia readers do  ot realize that wikipedia is a  o -profit orga izatio .',\n",
              " \"[   ] duri g the covid-   pa demic  wikipedia's coverage of the pa demic received i ter atio al media atte tio   a d brought a  i crease i  wikipedia readership overall.\",\n",
              " \"[   ] wikipedia's co te t has also bee  used i  academic studies  books  co fere ces  a d court cases.\",\n",
              " \"[   ][   ][   ] the parliame t of ca ada's website refers to wikipedia's article o  same-sex marriage i  the  related li ks  sectio  of its  further readi g  list for the civil marriage act.\",\n",
              " \"[   ] the e cyclopedia's assertio s are i creasi gly used as a source by orga izatio s such as the us federal courts a d the world i tellectual property orga izatio [   ]—though mai ly for supporti g i formatio  rather tha  i formatio  decisive to a case.\",\n",
              " '[   ] co te t appeari g o  wikipedia has also bee  cited as a source a d refere ced i  some us i tellige ce age cy reports.',\n",
              " '[   ] i  december       the scie tific jour al rna biology lau ched a  ew sectio  for descriptio s of families of rna molecules a d requires authors who co tribute to the sectio  to also submit a draft article o  the rna family for publicatio  i  wikipedia.',\n",
              " '[   ] wikipedia has also bee  used as a source i  jour alism [   ][   ] ofte  without attributio   a d several reporters have bee  dismissed for plagiarizi g from wikipedia.',\n",
              " \"[   ][   ][   ] i        time magazi e recog ized wikipedia's participatio   alo g with youtube  reddit  myspace  a d facebook [   ] i  the rapid growth of o li e collaboratio  a d i teractio  by millio s of people worldwide.\",\n",
              " 'i  july       wikipedia was the focus of a   -mi ute docume tary o  bbc radio  [   ] which argued that  with i creased usage a d aware ess  the  umber of refere ces to wikipedia i  popular culture is such that the word is o e of a select group of   st-ce tury  ou s that are so familiar  google  facebook  youtube  that they  o lo ger  eed expla atio .',\n",
              " 'o  september           italia  politicia  fra co grilli i raised a parliame tary questio  with the mi ister of cultural resources a d activities about the  ecessity of freedom of pa orama.',\n",
              " 'he said that the lack of such freedom forced wikipedia   the seve th most co sulted website   to forbid all images of moder  italia  buildi gs a d art  a d claimed this was hugely damagi g to tourist reve ues.',\n",
              " \"[   ] o  september           the washi gto  post reported that wikipedia had become a focal poi t i  the      us electio  campaig   sayi g   type a ca didate's  ame i to google  a d amo g the first results is a wikipedia page  maki g those e tries arguably as importa t as a y ad i  defi i g a ca didate.\",\n",
              " 'already  the preside tial e tries are bei g edited  dissected a d debated cou tless times each day.',\n",
              " \" [   ] a  october      reuters article  titled  wikipedia page the latest status symbol   reported the rece t phe ome o  of how havi g a wikipedia article vi dicates o e's  otability.\",\n",
              " '[   ] active participatio  also has a  impact.',\n",
              " 'law stude ts have bee  assig ed to write wikipedia articles as a  exercise i  clear a d succi ct writi g for a  u i itiated audie ce.',\n",
              " '[   ] a worki g group led by peter sto e  formed as a part of the sta ford-based project o e hu dred year study o  artificial i tellige ce  i  its report called wikipedia  the best-k ow  example of crowdsourci g\\xa0... that far exceeds traditio ally-compiled i formatio  sources  such as e cyclopedias a d dictio aries  i  scale a d depth.',\n",
              " \" [   ] i  a      opi io  piece for wired  hossei  derakhsha  describes wikipedia as  o e of the last remai i g pillars of the ope  a d dece tralized web  a d co trasted its existe ce as a text-based source of k owledge with social media a d social  etworki g services  the latter havi g  si ce colo ized the web for televisio 's values .\",\n",
              " \"for derakhsha   wikipedia's goal as a  e cyclopedia represe ts the age of e lighte me t traditio  of ratio ality triumphi g over emotio s  a tre d which he co siders  e da gered  due to the  gradual shift from a typographic culture to a photographic o e  which i  tur  mea [s] a shift from ratio ality to emotio s  expositio  to e tertai me t .\",\n",
              " 'rather tha   sapere aude   lit.',\n",
              " \"''dare to k ow''   social  etworks have led to a culture of  [d]are  ot to care to k ow .\",\n",
              " 'this is while wikipedia faces  a more co cer i g problem  tha  fu di g   amely  a flatte i g growth rate i  the  umber of co tributors to the website .',\n",
              " 'co seque tly  the challe ge for wikipedia a d those who use it is to  save wikipedia a d its promise of a free a d ope  collectio  of all huma  k owledge amid the co quest of  ew a d old televisio —how to collect a d preserve k owledge whe   obody cares to k ow.',\n",
              " ' [   ] wikipedia wo  two major awards i  may     .',\n",
              " '[   ] the first was a golde  nica for digital commu ities of the a  ual prix ars electro ica co test  this came with a €        £                gra t a d a  i vitatio  to prese t at the pae cyberarts festival i  austria later that year.',\n",
              " \"the seco d was a judges' webby award for the  commu ity  category.\",\n",
              " '[   ] wikipedia was also  omi ated for a  best practices  webby award.',\n",
              " 'i        readers of bra dcha  el.com voted wikipedia as the fourth-highest bra d ra ki g  receivi g    perce t of the votes i  a swer to the questio   which bra d had the most impact o  our lives i       ',\n",
              " ' [   ] i  september       wikipedia received quadriga a missio  of e lighte me t award of werkstatt deutschla d alo g with boris tadić  eckart höfli g  a d peter gabriel.',\n",
              " 'the award was prese ted to wales by david wei berger.',\n",
              " '[   ] i        wikipedia was awarded both the a  ual erasmus prize  which recog izes exceptio al co tributio s to culture  society or social scie ces [   ] a d the spa ish pri cess of asturias award o  i ter atio al cooperatio .',\n",
              " '[   ] speaki g at the asturia  parliame t i  oviedo  the city that hosts the awards ceremo y  jimmy wales praised the work of the asturia  la guage wikipedia users.',\n",
              " '[   ] the  ight of the ceremo y  members of the wikimedia fou datio  held a meeti g with wikipedia s from all parts of spai   i cludi g the local asturia  commu ity.',\n",
              " \"ma y parodies target wikipedia's ope  ess a d susceptibility to i serted i accuracies  with characters va dalizi g or modifyi g the o li e e cyclopedia project's articles.\",\n",
              " 'comedia  stephe  colbert has parodied or refere ced wikipedia o   umerous episodes of his show the colbert report a d coi ed the related term wikiality  mea i g  together we ca  create a reality that we all agree o —the reality we just agreed o  .',\n",
              " \"[   ] a other example ca  be fou d i   wikipedia celebrates     years of america  i depe de ce   a july      fro t-page article i  the o io  [   ] as well as the      the o io  article  'l.a.\",\n",
              " \"law' wikipedia page viewed     times today .\",\n",
              " '[   ] i  a  episode of the televisio  comedy the office u.s.  which aired i  april       a  i compete t office ma ager  michael scott  is show  relyi g o  a hypothetical wikipedia article for i formatio  o   egotiatio  tactics to assist him i   egotiati g lesser pay for a  employee.',\n",
              " \"[   ] viewers of the show tried to add the episode's me tio  of the page as a sectio  of the actual wikipedia article o   egotiatio   but this effort was preve ted by other users o  the article's talk page.\",\n",
              " '[   ]  my number o e doctor   a      episode of the televisio  show scrubs  played o  the perceptio  that wikipedia is a  u reliable refere ce tool with a sce e i  which perry cox reacts to a patie t who says that a wikipedia article i dicates that the raw food diet reverses the effects of bo e ca cer by retorti g that the same editor who wrote that article also wrote the battlestar galactica episode guide.',\n",
              " '[   ] i        the comedic website collegehumor produced a video sketch  amed  professor wikipedia   i  which the fictitious professor wikipedia i structs a class with a medley of u verifiable a d occasio ally absurd stateme ts.',\n",
              " '[   ] the dilbert comic strip from may          features a character supporti g a  improbable claim by sayi g  give me te  mi utes a d the  check wikipedia.',\n",
              " ' [   ] i  july       bbc radio   broadcast a comedy series called bigipedia  which was set o  a website which was a parody of wikipedia.',\n",
              " 'some of the sketches were directly i spired by wikipedia a d its articles.',\n",
              " '[   ] o  august           the new yorker website published a cartoo  with this captio    dammit  ma  i g  have you co sidered the pro ou  war that this is goi g to start o  your wikipedia page ',\n",
              " ' [   ] the cartoo  referred to chelsea elizabeth ma  i g  bor  bradley edward ma  i g   a  america  activist  politicia   a d former u ited states army soldier a d a tra s woma .',\n",
              " 'i  december       joh  julius norwich stated  i  a letter published i  the times  ewspaper  that as a historia  he resorted to wikipedia  at least a doze  times a day   a d had  ever yet caught it out.',\n",
              " 'he described it as  a work of refere ce as useful as a y i  existe ce   with so wide a ra ge that it is almost impossible to fi d a perso   place  or thi g that it has left u covered a d that he could  ever have writte  his last two books without it.',\n",
              " '[   ][   ] wikipedia has also spaw ed several sister projects  which are also wikis ru  by the wikimedia fou datio .',\n",
              " 'these other wikimedia projects i clude wiktio ary  a dictio ary project lau ched i  december      [   ] wikiquote  a collectio  of quotatio s created a week after wikimedia lau ched  wikibooks  a collectio  of collaboratively writte  free textbooks a d a  otated texts  wikimedia commo s  a site devoted to free-k owledge multimedia  wiki ews  for citize  jour alism  a d wikiversity  a project for the creatio  of free lear i g materials a d the provisio  of o li e lear i g activities.',\n",
              " '[   ] a other sister project of wikipedia  wikispecies  is a catalogue of species.',\n",
              " 'i       wikivoyage  a  editable travel guide  a d wikidata  a  editable k owledge base  lau ched.',\n",
              " 'the most obvious eco omic effect of wikipedia has bee  the death of commercial e cyclopedias  especially the pri ted versio s  e.g.',\n",
              " 'e cyclopædia brita  ica  which were u able to compete with a product that is esse tially free.',\n",
              " \"[   ][   ][   ] nicholas carr wrote a      essay   the amorality of web  .    that criticized websites with user-ge erated co te t  like wikipedia  for possibly leadi g to professio al  a d  i  his view  superior  co te t producers' goi g out of busi ess  because  free trumps quality all the time .\",\n",
              " 'carr wrote   implicit i  the ecstatic visio s of web  .  is the hegemo y of the amateur.',\n",
              " \"i for o e ca 't imagi e a ythi g more frighte i g.\",\n",
              " ' [   ] others dispute the  otio  that wikipedia  or similar efforts  will e tirely displace traditio al publicatio s.',\n",
              " 'for i sta ce  chris a derso   the editor-i -chief of wired magazi e  wrote i  nature that the  wisdom of crowds  approach of wikipedia will  ot displace top scie tific jour als  with their rigorous peer review process.',\n",
              " '[   ] there is also a  o goi g debate about the i flue ce of wikipedia o  the biography publishi g busi ess.',\n",
              " \" the worry is that  if you ca  get all that i formatio  from wikipedia  what's left for biography  \",\n",
              " 'said kathry  hughes  professor of life writi g at the u iversity of east a glia a d author of the short life a d lo g times of mrs beeto  a d george eliot  the last victoria .',\n",
              " '[   ] wikipedia has bee  widely used as a corpus for li guistic research i  computatio al li guistics  i formatio  retrieval a d  atural la guage processi g.',\n",
              " 'i  particular  it commo ly serves as a target k owledge base for the e tity li ki g problem  which is the  called  wikificatio   [   ] a d to the related problem of word-se se disambiguatio .',\n",
              " '[   ] methods similar to wikificatio  ca  i  tur  be used to fi d  missi g  li ks i  wikipedia.',\n",
              " '[   ] i        fre ch researchers josé lages of the u iversity of fra che-comté i  besa ço  a d dima shepelya sky of paul sabatier u iversity i  toulouse published a global u iversity ra ki g based o  wikipedia scholarly citatio s.',\n",
              " '[   ][   ][   ] they used pagera k  followed by the  umber of appeara ces i  the    differe t la guage editio s of wikipedia  desce di g order  a d the ce tury i  which they were fou ded  asce di g order  .',\n",
              " '[   ] a      mit study suggests that words used o  wikipedia articles e d up i  scie tific publicatio s.',\n",
              " '[   ][   ] studies related to wikipedia have bee  usi g machi e lear i g a d artificial i tellige ce to support various operatio s.',\n",
              " 'o e of the most importa t areas—automatic detectio  of va dalism[   ][   ] a d data quality assessme t i  wikipedia.',\n",
              " '[   ] several i teractive multimedia e cyclopedias i corporati g e tries writte  by the public existed lo g before wikipedia was fou ded.',\n",
              " 'the first of these was the      bbc domesday project  which i cluded text  e tered o  bbc micro computers  a d photographs from more tha  a millio  co tributors i  the uk  a d covered the geography  art  a d culture of the uk.',\n",
              " 'this was the first i teractive multimedia e cyclopedia  a d was also the first major multimedia docume t co  ected through i ter al li ks   with the majority of articles bei g accessible through a  i teractive map of the uk.',\n",
              " 'the user i terface a d part of the co te t of the domesday project were emulated o  a website u til     .',\n",
              " '[   ] several free-co te t  collaborative e cyclopedias were created arou d the same period as wikipedia  e.g.',\n",
              " 'everythi g   [   ] with ma y later bei g merged i to the project  e.g.',\n",
              " 'gne .',\n",
              " '[   ] o e of the most successful early o li e e cyclopedias i corporati g e tries by the public was h g   which was created by douglas adams i      .',\n",
              " 'the h g  e cyclopedia is relatively lighthearted  focusi g o  articles which are both witty a d i formative.',\n",
              " 'subseque t collaborative k owledge websites have draw  i spiratio  from wikipedia.',\n",
              " 'some  such as sus i g. u  e ciclopedia libre  hudo g  a d baidu baike likewise employ  o formal review process  although some like co servapedia are  ot as ope .',\n",
              " 'others use more traditio al peer review  such as e cyclopedia of life a d the o li e wiki e cyclopedias scholarpedia a d citize dium.',\n",
              " 'the latter was started by sa ger i  a  attempt to create a reliable alter ative to wikipedia.',\n",
              " '[   ][   ] machi e lear i g  ml  is the study of computer algorithms that improve automatically through experie ce.',\n",
              " '[ ] it is see  as a part of artificial i tellige ce.',\n",
              " 'machi e lear i g algorithms build a model based o  sample data  k ow  as  trai i g data   i  order to make predictio s or decisio s without bei g explicitly programmed to do so.',\n",
              " '[ ] machi e lear i g algorithms are used i  a wide variety of applicatio s  such as email filteri g a d computer visio   where it is difficult or u feasible to develop co ve tio al algorithms to perform the  eeded tasks.',\n",
              " 'a subset of machi e lear i g is closely related to computatio al statistics  which focuses o  maki g predictio s usi g computers  but  ot all machi e lear i g is statistical lear i g.',\n",
              " 'the study of mathematical optimizatio  delivers methods  theory a d applicatio  domai s to the field of machi e lear i g.',\n",
              " 'data mi i g is a related field of study  focusi g o  exploratory data a alysis through u supervised lear i g.',\n",
              " '[ ][ ] i  its applicatio  across busi ess problems  machi e lear i g is also referred to as predictive a alytics.',\n",
              " 'machi e lear i g i volves computers discoveri g how they ca  perform tasks without bei g explicitly programmed to do so.',\n",
              " 'it i volves computers lear i g from data provided so that they carry out certai  tasks.',\n",
              " \"for simple tasks assig ed to computers  it is possible to program algorithms telli g the machi e how to execute all steps required to solve the problem at ha d  o  the computer's part   o lear i g is  eeded.\",\n",
              " 'for more adva ced tasks  it ca  be challe gi g for a huma  to ma ually create the  eeded algorithms.',\n",
              " 'i  practice  it ca  tur  out to be more effective to help the machi e develop its ow  algorithm  rather tha  havi g huma  programmers specify every  eeded step.',\n",
              " '[ ] the discipli e of machi e lear i g employs various approaches to teach computers to accomplish tasks where  o fully satisfactory algorithm is available.',\n",
              " 'i  cases where vast  umbers of pote tial a swers exist  o e approach is to label some of the correct a swers as valid.',\n",
              " 'this ca  the  be used as trai i g data for the computer to improve the algorithm s  it uses to determi e correct a swers.',\n",
              " 'for example  to trai  a system for the task of digital character recog itio   the mnist dataset of ha dwritte  digits has ofte  bee  used.',\n",
              " \"[ ] machi e lear i g approaches are traditio ally divided i to three broad categories  depe di g o  the  ature of the  sig al  or  feedback  available to the lear i g system  other approaches have bee  developed which do 't fit  eatly i to this three-fold categorisatio   a d sometimes more tha  o e is used by the same machi e lear i g system.\",\n",
              " 'for example topic modeli g  dime sio ality reductio  or meta lear i g.',\n",
              " '[ ] as of       deep lear i g has become the domi a t approach for much o goi g work i  the field of machi e lear i g.',\n",
              " '[ ] the term machi e lear i g was coi ed i       by arthur samuel  a  america  ibmer a d pio eer i  the field of computer gami g a d artificial i tellige ce.',\n",
              " \"[ ][ ] a represe tative book of the machi e lear i g research duri g the     s was the nilsso 's book o  lear i g machi es  deali g mostly with machi e lear i g for patter  classificatio .\",\n",
              " '[  ] i terest related to patter  recog itio  co ti ued i to the     s  as described by duda a d hart i      .',\n",
              " '[  ] i       a report was give  o  usi g teachi g strategies so that a  eural  etwork lear s to recog ize    characters     letters     digits  a d   special symbols  from a computer termi al.',\n",
              " '[  ] tom m. mitchell provided a widely quoted  more formal defi itio  of the algorithms studied i  the machi e lear i g field   a computer program is said to lear  from experie ce e with respect to some class of tasks t a d performa ce measure p if its performa ce at tasks i  t  as measured by p   improves with experie ce e. [  ] this defi itio  of the tasks i  which machi e lear i g is co cer ed offers a fu dame tally operatio al defi itio  rather tha  defi i g the field i  cog itive terms.',\n",
              " \"this follows ala  turi g's proposal i  his paper  computi g machi ery a d i tellige ce   i  which the questio   ca  machi es thi k  \",\n",
              " 'is replaced with the questio   ca  machi es do what we  as thi ki g e tities  ca  do  .',\n",
              " '[  ] moder  day machi e lear i g has two objectives  o e is to classify data based o  models which have bee  developed  the other purpose is to make predictio s for future outcomes based o  these models.',\n",
              " 'a hypothetical algorithm specific to classifyi g data may use computer visio  of moles coupled with supervised lear i g i  order to trai  it to classify the ca cerous moles.',\n",
              " 'where as  a machi e lear i g algorithm for stock tradi g may i form the trader of future pote tial predictio s.',\n",
              " '[  ] as a scie tific e deavor  machi e lear i g grew out of the quest for artificial i tellige ce.',\n",
              " 'i  the early days of ai as a  academic discipli e  some researchers were i terested i  havi g machi es lear  from data.',\n",
              " 'they attempted to approach the problem with various symbolic methods  as well as what was the  termed   eural  etworks   these were mostly perceptro s a d other models that were later fou d to be rei ve tio s of the ge eralized li ear models of statistics.',\n",
              " '[  ] probabilistic reaso i g was also employed  especially i  automated medical diag osis.',\n",
              " '[  ]     however  a  i creasi g emphasis o  the logical  k owledge-based approach caused a rift betwee  ai a d machi e lear i g.',\n",
              " 'probabilistic systems were plagued by theoretical a d practical problems of data acquisitio  a d represe tatio .',\n",
              " '[  ]     by       expert systems had come to domi ate ai  a d statistics was out of favor.',\n",
              " '[  ] work o  symbolic/k owledge-based lear i g did co ti ue withi  ai  leadi g to i ductive logic programmi g  but the more statistical li e of research was  ow outside the field of ai proper  i  patter  recog itio  a d i formatio  retrieval.',\n",
              " '[  ]    –         neural  etworks research had bee  aba do ed by ai a d computer scie ce arou d the same time.',\n",
              " 'this li e  too  was co ti ued outside the ai/cs field  as  co  ectio ism   by researchers from other discipli es i cludi g hopfield  rumelhart a d hi to .',\n",
              " 'their mai  success came i  the mid-    s with the rei ve tio  of backpropagatio .',\n",
              " '[  ]    machi e lear i g  ml   reorga ized as a separate field  started to flourish i  the     s.',\n",
              " 'the field cha ged its goal from achievi g artificial i tellige ce to tackli g solvable problems of a practical  ature.',\n",
              " 'it shifted focus away from the symbolic approaches it had i herited from ai  a d toward methods a d models borrowed from statistics a d probability theory.',\n",
              " '[  ] as of       ma y sources co ti ue to assert that machi e lear i g remai s a subfield of ai.',\n",
              " '[  ][  ][  ] the mai  disagreeme t is whether all of ml is part of ai  as this would mea  that a yo e usi g ml could claim they are usi g ai.',\n",
              " \"others have the view that  ot all of ml is part of ai[  ][  ][  ] where o ly a  'i tellige t' subset of ml is part of ai.\",\n",
              " '[  ] the questio  to what is the differe ce betwee  ml a d ai is a swered by judea pearl i  the book of why.',\n",
              " '[  ] accordi gly ml lear s a d predicts based o  passive observatio s  whereas ai implies a  age t  i teracti g with the e viro me t to lear  a d take actio s that maximize its cha ce of successfully achievi g its goals.',\n",
              " '[  ] machi e lear i g a d data mi i g ofte  employ the same methods a d overlap sig ifica tly  but while machi e lear i g focuses o  predictio   based o  k ow  properties lear ed from the trai i g data  data mi i g focuses o  the discovery of  previously  u k ow  properties i  the data  this is the a alysis step of k owledge discovery i  databases .',\n",
              " 'data mi i g uses ma y machi e lear i g methods  but with differe t goals  o  the other ha d  machi e lear i g also employs data mi i g methods as  u supervised lear i g  or as a preprocessi g step to improve lear er accuracy.',\n",
              " 'much of the co fusio  betwee  these two research commu ities  which do ofte  have separate co fere ces a d separate jour als  ecml pkdd bei g a major exceptio   comes from the basic assumptio s they work with  i  machi e lear i g  performa ce is usually evaluated with respect to the ability to reproduce k ow  k owledge  while i  k owledge discovery a d data mi i g  kdd  the key task is the discovery of previously u k ow  k owledge.',\n",
              " 'evaluated with respect to k ow  k owledge  a  u i formed  u supervised  method will easily be outperformed by other supervised methods  while i  a typical kdd task  supervised methods ca  ot be used due to the u availability of trai i g data.',\n",
              " 'machi e lear i g also has i timate ties to optimizatio   ma y lear i g problems are formulated as mi imizatio  of some loss fu ctio  o  a trai i g set of examples.',\n",
              " 'loss fu ctio s express the discrepa cy betwee  the predictio s of the model bei g trai ed a d the actual problem i sta ces  for example  i  classificatio   o e wa ts to assig  a label to i sta ces  a d models are trai ed to correctly predict the pre-assig ed labels of a set of examples .',\n",
              " '[  ] the differe ce betwee  optimizatio  a d machi e lear i g arises from the goal of ge eralizatio   while optimizatio  algorithms ca  mi imize the loss o  a trai i g set  machi e lear i g is co cer ed with mi imizi g the loss o  u see  samples.',\n",
              " 'characterizi g the ge eralizatio  of various lear i g algorithms is a  active topic of curre t research  especially for deep lear i g algorithms.',\n",
              " 'machi e lear i g a d statistics are closely related fields i  terms of methods  but disti ct i  their pri cipal goal  statistics draws populatio  i fere ces from a sample  while machi e lear i g fi ds ge eralizable predictive patter s.',\n",
              " '[  ] accordi g to michael i. jorda   the ideas of machi e lear i g  from methodological pri ciples to theoretical tools  have had a lo g pre-history i  statistics.',\n",
              " '[  ] he also suggested the term data scie ce as a placeholder to call the overall field.',\n",
              " '[  ] leo breima  disti guished two statistical modeli g paradigms  data model a d algorithmic model [  ] wherei   algorithmic model  mea s more or less the machi e lear i g algorithms like ra dom forest.',\n",
              " 'some statisticia s have adopted methods from machi e lear i g  leadi g to a combi ed field that they call statistical lear i g.',\n",
              " '[  ] a core objective of a lear er is to ge eralize from its experie ce.',\n",
              " '[ ][  ] ge eralizatio  i  this co text is the ability of a lear i g machi e to perform accurately o   ew  u see  examples/tasks after havi g experie ced a lear i g data set.',\n",
              " 'the trai i g examples come from some ge erally u k ow  probability distributio   co sidered represe tative of the space of occurre ces  a d the lear er has to build a ge eral model about this space that e ables it to produce sufficie tly accurate predictio s i   ew cases.',\n",
              " 'the computatio al a alysis of machi e lear i g algorithms a d their performa ce is a bra ch of theoretical computer scie ce k ow  as computatio al lear i g theory.',\n",
              " 'because trai i g sets are fi ite a d the future is u certai   lear i g theory usually does  ot yield guara tees of the performa ce of algorithms.',\n",
              " 'i stead  probabilistic bou ds o  the performa ce are quite commo .',\n",
              " 'the bias–varia ce decompositio  is o e way to qua tify ge eralizatio  error.',\n",
              " 'for the best performa ce i  the co text of ge eralizatio   the complexity of the hypothesis should match the complexity of the fu ctio  u derlyi g the data.',\n",
              " 'if the hypothesis is less complex tha  the fu ctio   the  the model has u der fitted the data.',\n",
              " 'if the complexity of the model is i creased i  respo se  the  the trai i g error decreases.',\n",
              " 'but if the hypothesis is too complex  the  the model is subject to overfitti g a d ge eralizatio  will be poorer.',\n",
              " '[  ] i  additio  to performa ce bou ds  lear i g theorists study the time complexity a d feasibility of lear i g.',\n",
              " 'i  computatio al lear i g theory  a computatio  is co sidered feasible if it ca  be do e i  poly omial time.',\n",
              " 'there are two ki ds of time complexity results.',\n",
              " 'positive results show that a certai  class of fu ctio s ca  be lear ed i  poly omial time.',\n",
              " 'negative results show that certai  classes ca  ot be lear ed i  poly omial time.',\n",
              " 'the types of machi e lear i g algorithms differ i  their approach  the type of data they i put a d output  a d the type of task or problem that they are i te ded to solve.',\n",
              " 'supervised lear i g algorithms build a mathematical model of a set of data that co tai s both the i puts a d the desired outputs.',\n",
              " '[  ] the data is k ow  as trai i g data  a d co sists of a set of trai i g examples.',\n",
              " 'each trai i g example has o e or more i puts a d the desired output  also k ow  as a supervisory sig al.',\n",
              " 'i  the mathematical model  each trai i g example is represe ted by a  array or vector  sometimes called a feature vector  a d the trai i g data is represe ted by a matrix.',\n",
              " 'through iterative optimizatio  of a  objective fu ctio   supervised lear i g algorithms lear  a fu ctio  that ca  be used to predict the output associated with  ew i puts.',\n",
              " '[  ] a  optimal fu ctio  will allow the algorithm to correctly determi e the output for i puts that were  ot a part of the trai i g data.',\n",
              " 'a  algorithm that improves the accuracy of its outputs or predictio s over time is said to have lear ed to perform that task.',\n",
              " '[  ] types of supervised lear i g algorithms i clude active lear i g  classificatio  a d regressio .',\n",
              " '[  ] classificatio  algorithms are used whe  the outputs are restricted to a limited set of values  a d regressio  algorithms are used whe  the outputs may have a y  umerical value withi  a ra ge.',\n",
              " 'as a  example  for a classificatio  algorithm that filters emails  the i put would be a  i comi g email  a d the output would be the  ame of the folder i  which to file the email.',\n",
              " 'similarity lear i g is a  area of supervised machi e lear i g closely related to regressio  a d classificatio   but the goal is to lear  from examples usi g a similarity fu ctio  that measures how similar or related two objects are.',\n",
              " 'it has applicatio s i  ra ki g  recomme datio  systems  visual ide tity tracki g  face verificatio   a d speaker verificatio .',\n",
              " 'u supervised lear i g algorithms take a set of data that co tai s o ly i puts  a d fi d structure i  the data  like groupi g or clusteri g of data poi ts.',\n",
              " 'the algorithms  therefore  lear  from test data that has  ot bee  labeled  classified or categorized.',\n",
              " 'i stead of respo di g to feedback  u supervised lear i g algorithms ide tify commo alities i  the data a d react based o  the prese ce or abse ce of such commo alities i  each  ew piece of data.',\n",
              " 'a ce tral applicatio  of u supervised lear i g is i  the field of de sity estimatio  i  statistics  such as fi di g the probability de sity fu ctio .',\n",
              " '[  ] though u supervised lear i g e compasses other domai s i volvi g summarizi g a d explai i g data features.',\n",
              " 'cluster a alysis is the assig me t of a set of observatio s i to subsets  called clusters  so that observatio s withi  the same cluster are similar accordi g to o e or more predesig ated criteria  while observatio s draw  from differe t clusters are dissimilar.',\n",
              " 'differe t clusteri g tech iques make differe t assumptio s o  the structure of the data  ofte  defi ed by some similarity metric a d evaluated  for example  by i ter al compact ess  or the similarity betwee  members of the same cluster  a d separatio   the differe ce betwee  clusters.',\n",
              " 'other methods are based o  estimated de sity a d graph co  ectivity.',\n",
              " 'semi-supervised lear i g falls betwee  u supervised lear i g  without a y labeled trai i g data  a d supervised lear i g  with completely labeled trai i g data .',\n",
              " 'some of the trai i g examples are missi g trai i g labels   yet ma y machi e-lear i g researchers have fou d that u labeled data  whe  used i  co ju ctio  with a small amou t of labeled data  ca  produce a co siderable improveme t i  lear i g accuracy.',\n",
              " 'i  weakly supervised lear i g  the trai i g labels are  oisy  limited  or imprecise  however  these labels are ofte  cheaper to obtai   resulti g i  larger effective trai i g sets.',\n",
              " '[  ] rei forceme t lear i g is a  area of machi e lear i g co cer ed with how software age ts ought to take actio s i  a  e viro me t so as to maximize some  otio  of cumulative reward.',\n",
              " 'due to its ge erality  the field is studied i  ma y other discipli es  such as game theory  co trol theory  operatio s research  i formatio  theory  simulatio -based optimizatio   multi-age t systems  swarm i tellige ce  statistics a d ge etic algorithms.',\n",
              " 'i  machi e lear i g  the e viro me t is typically represe ted as a markov decisio  process  mdp .',\n",
              " 'ma y rei forceme t lear i g algorithms use dy amic programmi g tech iques.',\n",
              " '[  ] rei forceme t lear i g algorithms do  ot assume k owledge of a  exact mathematical model of the mdp  a d are used whe  exact models are i feasible.',\n",
              " 'rei forceme t lear i g algorithms are used i  auto omous vehicles or i  lear i g to play a game agai st a huma  oppo e t.',\n",
              " 'self-lear i g as a machi e lear i g paradigm was i troduced i       alo g with a  eural  etwork capable of self-lear i g  amed crossbar adaptive array  caa .',\n",
              " '[  ] it is a lear i g with  o exter al rewards a d  o exter al teacher advice.',\n",
              " 'the caa self-lear i g algorithm computes  i  a crossbar fashio   both decisio s about actio s a d emotio s  feeli gs  about co seque ce situatio s.',\n",
              " 'the system is drive  by the i teractio  betwee  cog itio  a d emotio .',\n",
              " '[  ]\\nthe self-lear i g algorithm updates a memory matrix w =||w a s || such that i  each iteratio  executes the followi g machi e lear i g routi e  it is a system with o ly o e i put  situatio  s  a d o ly o e output  actio   or behavior  a.',\n",
              " 'there is  either a separate rei forceme t i put  or a  advice i put from the e viro me t.',\n",
              " 'the backpropagated value  seco dary rei forceme t  is the emotio  toward the co seque ce situatio .',\n",
              " 'the caa exists i  two e viro me ts  o e is the behavioral e viro me t where it behaves  a d the other is the ge etic e viro me t  wherefrom it i itially a d o ly o ce receives i itial emotio s about situatio s to be e cou tered i  the behavioral e viro me t.',\n",
              " 'after receivi g the ge ome  species  vector from the ge etic e viro me t  the caa lear s a goal-seeki g behavior  i  a  e viro me t that co tai s both desirable a d u desirable situatio s.',\n",
              " '[  ] several lear i g algorithms aim at discoveri g better represe tatio s of the i puts provided duri g trai i g.',\n",
              " '[  ] classic examples i clude pri cipal compo e ts a alysis a d cluster a alysis.',\n",
              " 'feature lear i g algorithms  also called represe tatio  lear i g algorithms  ofte  attempt to preserve the i formatio  i  their i put but also tra sform it i  a way that makes it useful  ofte  as a pre-processi g step before performi g classificatio  or predictio s.',\n",
              " 'this tech ique allows reco structio  of the i puts comi g from the u k ow  data-ge erati g distributio   while  ot bei g  ecessarily faithful to co figuratio s that are implausible u der that distributio .',\n",
              " 'this replaces ma ual feature e gi eeri g  a d allows a machi e to both lear  the features a d use them to perform a specific task.',\n",
              " 'feature lear i g ca  be either supervised or u supervised.',\n",
              " 'i  supervised feature lear i g  features are lear ed usi g labeled i put data.',\n",
              " 'examples i clude artificial  eural  etworks  multilayer perceptro s  a d supervised dictio ary lear i g.',\n",
              " 'i  u supervised feature lear i g  features are lear ed with u labeled i put data.',\n",
              " 'examples i clude dictio ary lear i g  i depe de t compo e t a alysis  autoe coders  matrix factorizatio [  ] a d various forms of clusteri g.',\n",
              " '[  ][  ][  ] ma ifold lear i g algorithms attempt to do so u der the co strai t that the lear ed represe tatio  is low-dime sio al.',\n",
              " 'sparse codi g algorithms attempt to do so u der the co strai t that the lear ed represe tatio  is sparse  mea i g that the mathematical model has ma y zeros.',\n",
              " 'multili ear subspace lear i g algorithms aim to lear  low-dime sio al represe tatio s directly from te sor represe tatio s for multidime sio al data  without reshapi g them i to higher-dime sio al vectors.',\n",
              " '[  ] deep lear i g algorithms discover multiple levels of represe tatio   or a hierarchy of features  with higher-level  more abstract features defi ed i  terms of  or ge erati g  lower-level features.',\n",
              " 'it has bee  argued that a  i tellige t machi e is o e that lear s a represe tatio  that dise ta gles the u derlyi g factors of variatio  that explai  the observed data.',\n",
              " '[  ] feature lear i g is motivated by the fact that machi e lear i g tasks such as classificatio  ofte  require i put that is mathematically a d computatio ally co ve ie t to process.',\n",
              " 'however  real-world data such as images  video  a d se sory data has  ot yielded to attempts to algorithmically defi e specific features.',\n",
              " 'a  alter ative is to discover such features or represe tatio s thorough exami atio   without relyi g o  explicit algorithms.',\n",
              " 'sparse dictio ary lear i g is a feature lear i g method where a trai i g example is represe ted as a li ear combi atio  of basis fu ctio s  a d is assumed to be a sparse matrix.',\n",
              " 'the method is stro gly np-hard a d difficult to solve approximately.',\n",
              " '[  ] a popular heuristic method for sparse dictio ary lear i g is the k-svd algorithm.',\n",
              " 'sparse dictio ary lear i g has bee  applied i  several co texts.',\n",
              " 'i  classificatio   the problem is to determi e the class to which a previously u see  trai i g example belo gs.',\n",
              " 'for a dictio ary where each class has already bee  built  a  ew trai i g example is associated with the class that is best sparsely represe ted by the correspo di g dictio ary.',\n",
              " 'sparse dictio ary lear i g has also bee  applied i  image de- oisi g.',\n",
              " 'the key idea is that a clea  image patch ca  be sparsely represe ted by a  image dictio ary  but the  oise ca  ot.',\n",
              " '[  ] i  data mi i g  a omaly detectio   also k ow  as outlier detectio   is the ide tificatio  of rare items  eve ts or observatio s which raise suspicio s by differi g sig ifica tly from the majority of the data.',\n",
              " '[  ] typically  the a omalous items represe t a  issue such as ba k fraud  a structural defect  medical problems or errors i  a text.',\n",
              " 'a omalies are referred to as outliers   ovelties   oise  deviatio s a d exceptio s.',\n",
              " '[  ] i  particular  i  the co text of abuse a d  etwork i trusio  detectio   the i teresti g objects are ofte   ot rare objects  but u expected bursts of i activity.',\n",
              " 'this patter  does  ot adhere to the commo  statistical defi itio  of a  outlier as a rare object  a d ma y outlier detectio  methods  i  particular  u supervised algorithms  will fail o  such data u less it has bee  aggregated appropriately.',\n",
              " 'i stead  a cluster a alysis algorithm may be able to detect the micro-clusters formed by these patter s.',\n",
              " '[  ] three broad categories of a omaly detectio  tech iques exist.',\n",
              " '[  ] u supervised a omaly detectio  tech iques detect a omalies i  a  u labeled test data set u der the assumptio  that the majority of the i sta ces i  the data set are  ormal  by looki g for i sta ces that seem to fit least to the remai der of the data set.',\n",
              " 'supervised a omaly detectio  tech iques require a data set that has bee  labeled as   ormal  a d  ab ormal  a d i volves trai i g a classifier  the key differe ce to ma y other statistical classificatio  problems is the i here tly u bala ced  ature of outlier detectio  .',\n",
              " 'semi-supervised a omaly detectio  tech iques co struct a model represe ti g  ormal behavior from a give   ormal trai i g data set a d the  test the likelihood of a test i sta ce to be ge erated by the model.',\n",
              " 'i  developme tal robotics  robot lear i g algorithms ge erate their ow  seque ces of lear i g experie ces  also k ow  as a curriculum  to cumulatively acquire  ew skills through self-guided exploratio  a d social i teractio  with huma s.',\n",
              " 'these robots use guida ce mecha isms such as active lear i g  maturatio   motor sy ergies a d imitatio .',\n",
              " 'associatio  rule lear i g is a rule-based machi e lear i g method for discoveri g relatio ships betwee  variables i  large databases.',\n",
              " 'it is i te ded to ide tify stro g rules discovered i  databases usi g some measure of  i teresti g ess .',\n",
              " '[  ] rule-based machi e lear i g is a ge eral term for a y machi e lear i g method that ide tifies  lear s  or evolves  rules  to store  ma ipulate or apply k owledge.',\n",
              " 'the defi i g characteristic of a rule-based machi e lear i g algorithm is the ide tificatio  a d utilizatio  of a set of relatio al rules that collectively represe t the k owledge captured by the system.',\n",
              " 'this is i  co trast to other machi e lear i g algorithms that commo ly ide tify a si gular model that ca  be u iversally applied to a y i sta ce i  order to make a predictio .',\n",
              " '[  ] rule-based machi e lear i g approaches i clude lear i g classifier systems  associatio  rule lear i g  a d artificial immu e systems.',\n",
              " 'based o  the co cept of stro g rules  rakesh agrawal  tomasz imieliński a d aru  swami i troduced associatio  rules for discoveri g regularities betwee  products i  large-scale tra sactio  data recorded by poi t-of-sale  pos  systems i  supermarkets.',\n",
              " '[  ] for example  the rule \\n\\n\\n\\n{\\n\\no\\n \\ni\\no\\n \\ns\\n \\np\\no\\nt\\na\\nt\\no\\ne\\ns\\n\\n}\\n⇒\\n{\\n\\nb\\nu\\nr\\ng\\ne\\nr\\n\\n}\\n\\n\\n{\\\\displaystyle \\\\{\\\\mathrm {o io s potatoes} \\\\}\\\\rightarrow \\\\{\\\\mathrm {burger} \\\\}}\\n\\n fou d i  the sales data of a supermarket would i dicate that if a customer buys o io s a d potatoes together  they are likely to also buy hamburger meat.',\n",
              " 'such i formatio  ca  be used as the basis for decisio s about marketi g activities such as promotio al prici g or product placeme ts.',\n",
              " 'i  additio  to market basket a alysis  associatio  rules are employed today i  applicatio  areas i cludi g web usage mi i g  i trusio  detectio   co ti uous productio   a d bioi formatics.',\n",
              " 'i  co trast with seque ce mi i g  associatio  rule lear i g typically does  ot co sider the order of items either withi  a tra sactio  or across tra sactio s.',\n",
              " 'lear i g classifier systems  lcs  are a family of rule-based machi e lear i g algorithms that combi e a discovery compo e t  typically a ge etic algorithm  with a lear i g compo e t  performi g either supervised lear i g  rei forceme t lear i g  or u supervised lear i g.',\n",
              " 'they seek to ide tify a set of co text-depe de t rules that collectively store a d apply k owledge i  a piecewise ma  er i  order to make predictio s.',\n",
              " '[  ] i ductive logic programmi g  ilp  is a  approach to rule-lear i g usi g logic programmi g as a u iform represe tatio  for i put examples  backgrou d k owledge  a d hypotheses.',\n",
              " 'give  a  e codi g of the k ow  backgrou d k owledge a d a set of examples represe ted as a logical database of facts  a  ilp system will derive a hypothesized logic program that e tails all positive a d  o  egative examples.',\n",
              " 'i ductive programmi g is a related field that co siders a y ki d of programmi g la guage for represe ti g hypotheses  a d  ot o ly logic programmi g   such as fu ctio al programs.',\n",
              " 'i ductive logic programmi g is particularly useful i  bioi formatics a d  atural la guage processi g.',\n",
              " 'gordo  plotki  a d ehud shapiro laid the i itial theoretical fou datio  for i ductive machi e lear i g i  a logical setti g.',\n",
              " '[  ][  ][  ] shapiro built their first impleme tatio   model i fere ce system  i        a prolog program that i ductively i ferred logic programs from positive a d  egative examples.',\n",
              " '[  ] the term i ductive here refers to philosophical i ductio   suggesti g a theory to explai  observed facts  rather tha  mathematical i ductio   provi g a property for all members of a well-ordered set.',\n",
              " 'performi g machi e lear i g i volves creati g a model  which is trai ed o  some trai i g data a d the  ca  process additio al data to make predictio s.',\n",
              " 'various types of models have bee  used a d researched for machi e lear i g systems.',\n",
              " 'artificial  eural  etworks  anns   or co  ectio ist systems  are computi g systems vaguely i spired by the biological  eural  etworks that co stitute a imal brai s.',\n",
              " 'such systems  lear   to perform tasks by co sideri g examples  ge erally without bei g programmed with a y task-specific rules.',\n",
              " 'a  ann is a model based o  a collectio  of co  ected u its or  odes called  artificial  euro s   which loosely model the  euro s i  a biological brai .',\n",
              " 'each co  ectio   like the sy apses i  a biological brai   ca  tra smit i formatio   a  sig al   from o e artificial  euro  to a other.',\n",
              " 'a  artificial  euro  that receives a sig al ca  process it a d the  sig al additio al artificial  euro s co  ected to it.',\n",
              " 'i  commo  ann impleme tatio s  the sig al at a co  ectio  betwee  artificial  euro s is a real  umber  a d the output of each artificial  euro  is computed by some  o -li ear fu ctio  of the sum of its i puts.',\n",
              " 'the co  ectio s betwee  artificial  euro s are called  edges .',\n",
              " 'artificial  euro s a d edges typically have a weight that adjusts as lear i g proceeds.',\n",
              " 'the weight i creases or decreases the stre gth of the sig al at a co  ectio .',\n",
              " 'artificial  euro s may have a threshold such that the sig al is o ly se t if the aggregate sig al crosses that threshold.',\n",
              " 'typically  artificial  euro s are aggregated i to layers.',\n",
              " 'differe t layers may perform differe t ki ds of tra sformatio s o  their i puts.',\n",
              " 'sig als travel from the first layer  the i put layer  to the last layer  the output layer   possibly after traversi g the layers multiple times.',\n",
              " 'the origi al goal of the ann approach was to solve problems i  the same way that a huma  brai  would.',\n",
              " 'however  over time  atte tio  moved to performi g specific tasks  leadi g to deviatio s from biology.',\n",
              " 'artificial  eural  etworks have bee  used o  a variety of tasks  i cludi g computer visio   speech recog itio   machi e tra slatio   social  etwork filteri g  playi g board a d video games a d medical diag osis.',\n",
              " 'deep lear i g co sists of multiple hidde  layers i  a  artificial  eural  etwork.',\n",
              " 'this approach tries to model the way the huma  brai  processes light a d sou d i to visio  a d heari g.',\n",
              " 'some successful applicatio s of deep lear i g are computer visio  a d speech recog itio .',\n",
              " \"[  ] decisio  tree lear i g uses a decisio  tree as a predictive model to go from observatio s about a  item  represe ted i  the bra ches  to co clusio s about the item's target value  represe ted i  the leaves .\",\n",
              " 'it is o e of the predictive modeli g approaches used i  statistics  data mi i g  a d machi e lear i g.',\n",
              " 'tree models where the target variable ca  take a discrete set of values are called classificatio  trees  i  these tree structures  leaves represe t class labels a d bra ches represe t co ju ctio s of features that lead to those class labels.',\n",
              " 'decisio  trees where the target variable ca  take co ti uous values  typically real  umbers  are called regressio  trees.',\n",
              " 'i  decisio  a alysis  a decisio  tree ca  be used to visually a d explicitly represe t decisio s a d decisio  maki g.',\n",
              " 'i  data mi i g  a decisio  tree describes data  but the resulti g classificatio  tree ca  be a  i put for decisio  maki g.',\n",
              " 'support vector machi es  svms   also k ow  as support vector  etworks  are a set of related supervised lear i g methods used for classificatio  a d regressio .',\n",
              " 'give  a set of trai i g examples  each marked as belo gi g to o e of two categories  a  svm trai i g algorithm builds a model that predicts whether a  ew example falls i to o e category or the other.',\n",
              " '[  ]  a  svm trai i g algorithm is a  o -probabilistic  bi ary  li ear classifier  although methods such as platt scali g exist to use svm i  a probabilistic classificatio  setti g.',\n",
              " 'i  additio  to performi g li ear classificatio   svms ca  efficie tly perform a  o -li ear classificatio  usi g what is called the ker el trick  implicitly mappi g their i puts i to high-dime sio al feature spaces.',\n",
              " 'regressio  a alysis e compasses a large variety of statistical methods to estimate the relatio ship betwee  i put variables a d their associated features.',\n",
              " 'its most commo  form is li ear regressio   where a si gle li e is draw  to best fit the give  data accordi g to a mathematical criterio  such as ordi ary least squares.',\n",
              " 'the latter is ofte  exte ded by regularizatio   mathematics  methods to mitigate overfitti g a d bias  as i  ridge regressio .',\n",
              " 'whe  deali g with  o -li ear problems  go-to models i clude poly omial regressio   for example  used for tre dli e fitti g i  microsoft excel[  ]   logistic regressio   ofte  used i  statistical classificatio   or eve  ker el regressio   which i troduces  o -li earity by taki g adva tage of the ker el trick to implicitly map i put variables to higher-dime sio al space.',\n",
              " 'a bayesia   etwork  belief  etwork  or directed acyclic graphical model is a probabilistic graphical model that represe ts a set of ra dom variables a d their co ditio al i depe de ce with a directed acyclic graph  dag .',\n",
              " 'for example  a bayesia   etwork could represe t the probabilistic relatio ships betwee  diseases a d symptoms.',\n",
              " 'give  symptoms  the  etwork ca  be used to compute the probabilities of the prese ce of various diseases.',\n",
              " 'efficie t algorithms exist that perform i fere ce a d lear i g.',\n",
              " 'bayesia   etworks that model seque ces of variables  like speech sig als or protei  seque ces  are called dy amic bayesia   etworks.',\n",
              " 'ge eralizatio s of bayesia   etworks that ca  represe t a d solve decisio  problems u der u certai ty are called i flue ce diagrams.',\n",
              " 'a ge etic algorithm  ga  is a search algorithm a d heuristic tech ique that mimics the process of  atural selectio   usi g methods such as mutatio  a d crossover to ge erate  ew ge otypes i  the hope of fi di g good solutio s to a give  problem.',\n",
              " 'i  machi e lear i g  ge etic algorithms were used i  the     s a d     s.',\n",
              " '[  ][  ] co versely  machi e lear i g tech iques have bee  used to improve the performa ce of ge etic a d evolutio ary algorithms.',\n",
              " '[  ] usually  machi e lear i g models require a lot of data i  order for them to perform well.',\n",
              " 'usually  whe  trai i g a machi e lear i g model  o e  eeds to collect a large  represe tative sample of data from a trai i g set.',\n",
              " 'data from the trai i g set ca  be as varied as a corpus of text  a collectio  of images  a d data collected from i dividual users of a service.',\n",
              " 'overfitti g is somethi g to watch out for whe  trai i g a machi e lear i g model.',\n",
              " 'trai ed models derived from biased data ca  result i  skewed or u desired predictio s.',\n",
              " 'algorithmic bias is a pote tial result from data  ot fully prepared for trai i g.',\n",
              " \"federated lear i g is a  adapted form of distributed artificial i tellige ce to trai i g machi e lear i g models that dece tralizes the trai i g process  allowi g for users' privacy to be mai tai ed by  ot  eedi g to se d their data to a ce tralized server.\",\n",
              " 'this also i creases efficie cy by dece tralizi g the trai i g process to ma y devices.',\n",
              " \"for example  gboard uses federated machi e lear i g to trai  search query predictio  models o  users' mobile pho es without havi g to se d i dividual searches back to google.\",\n",
              " '[  ] there are ma y applicatio s for machi e lear i g  i cludi g  i        the media-services provider netflix held the first  netflix prize  competitio  to fi d a program to better predict user prefere ces a d improve the accuracy of its existi g ci ematch movie recomme datio  algorithm by at least    .',\n",
              " 'a joi t team made up of researchers from at&t labs-research i  collaboratio  with the teams big chaos a d pragmatic theory built a  e semble model to wi  the gra d prize i       for   \\xa0millio .',\n",
              " \"[  ] shortly after the prize was awarded  netflix realized that viewers' rati gs were  ot the best i dicators of their viewi g patter s   everythi g is a recomme datio    a d they cha ged their recomme datio  e gi e accordi gly.\",\n",
              " '[  ] i       the wall street jour al wrote about the firm rebellio  research a d their use of machi e lear i g to predict the fi a cial crisis.',\n",
              " \"[  ] i        co-fou der of su  microsystems  vi od khosla  predicted that     of medical doctors' jobs would be lost i  the  ext two decades to automated machi e lear i g medical diag ostic software.\",\n",
              " '[  ] i        it was reported that a machi e lear i g algorithm had bee  applied i  the field of art history to study fi e art pai ti gs a d that it may have revealed previously u recog ized i flue ces amo g artists.',\n",
              " '[  ] i       spri ger nature published the first research book created usi g machi e lear i g.',\n",
              " '[  ] although machi e lear i g has bee  tra sformative i  some fields  machi e-lear i g programs ofte  fail to deliver expected results.',\n",
              " '[  ][  ][  ] reaso s for this are  umerous  lack of  suitable  data  lack of access to the data  data bias  privacy problems  badly chose  tasks a d algorithms  wro g tools a d people  lack of resources  a d evaluatio  problems.',\n",
              " '[  ] i        a self-drivi g car from uber failed to detect a pedestria   who was killed after a collisio .',\n",
              " '[  ] attempts to use machi e lear i g i  healthcare with the ibm watso  system failed to deliver eve  after years of time a d billio s of dollars i vested.',\n",
              " '[  ][  ] machi e lear i g has bee  used as a strategy to update the evide ce related to systematic review a d i creased reviewer burde  related to the growth of biomedical literature.',\n",
              " 'while it has improved with trai i g sets  it has  ot yet developed sufficie tly to reduce the workload burde  without limiti g the  ecessary se sitivity for the fi di gs research themselves.',\n",
              " '[  ] machi e lear i g approaches i  particular ca  suffer from differe t data biases.',\n",
              " 'a machi e lear i g system trai ed o  curre t customers o ly may  ot be able to predict the  eeds of  ew customer groups that are  ot represe ted i  the trai i g data.',\n",
              " ...]"
            ]
          },
          "metadata": {
            "tags": []
          },
          "execution_count": 10
        }
      ]
    },
    {
      "cell_type": "code",
      "metadata": {
        "colab": {
          "base_uri": "https://localhost:8080/"
        },
        "id": "fTd7mA9FArS3",
        "outputId": "e4821d7b-92de-45aa-b363-af8a310b89c6"
      },
      "source": [
        "from sklearn.feature_extraction.text import CountVectorizer\n",
        "cv = CountVectorizer()\n",
        "X = cv.fit_transform(data_list).toarray()\n",
        "X.shape"
      ],
      "execution_count": 11,
      "outputs": [
        {
          "output_type": "execute_result",
          "data": {
            "text/plain": [
              "(10337, 34937)"
            ]
          },
          "metadata": {
            "tags": []
          },
          "execution_count": 11
        }
      ]
    },
    {
      "cell_type": "code",
      "metadata": {
        "colab": {
          "base_uri": "https://localhost:8080/"
        },
        "id": "pLRNdb3SBWTF",
        "outputId": "eb900505-ae70-411d-ad11-55a47fbafe76"
      },
      "source": [
        "X"
      ],
      "execution_count": 12,
      "outputs": [
        {
          "output_type": "execute_result",
          "data": {
            "text/plain": [
              "array([[0, 0, 0, ..., 0, 0, 0],\n",
              "       [0, 0, 0, ..., 0, 0, 0],\n",
              "       [0, 0, 0, ..., 0, 0, 0],\n",
              "       ...,\n",
              "       [0, 0, 0, ..., 0, 0, 0],\n",
              "       [0, 0, 0, ..., 0, 0, 0],\n",
              "       [0, 0, 0, ..., 0, 0, 0]])"
            ]
          },
          "metadata": {
            "tags": []
          },
          "execution_count": 12
        }
      ]
    },
    {
      "cell_type": "code",
      "metadata": {
        "id": "4tThDefzAibX"
      },
      "source": [
        "from sklearn.model_selection import train_test_split\n",
        "x_train,x_test,y_train,y_test = train_test_split(X,y,test_size =0.20)"
      ],
      "execution_count": 13,
      "outputs": []
    },
    {
      "cell_type": "code",
      "metadata": {
        "colab": {
          "base_uri": "https://localhost:8080/"
        },
        "id": "bUE6IIvaBims",
        "outputId": "707875e3-4e81-4210-a356-c538104b0079"
      },
      "source": [
        "from sklearn.naive_bayes import MultinomialNB\n",
        "model = MultinomialNB()\n",
        "model.fit(x_train,y_train)"
      ],
      "execution_count": 14,
      "outputs": [
        {
          "output_type": "execute_result",
          "data": {
            "text/plain": [
              "MultinomialNB(alpha=1.0, class_prior=None, fit_prior=True)"
            ]
          },
          "metadata": {
            "tags": []
          },
          "execution_count": 14
        }
      ]
    },
    {
      "cell_type": "code",
      "metadata": {
        "colab": {
          "base_uri": "https://localhost:8080/"
        },
        "id": "uARBXemyG_un",
        "outputId": "9a39c3d5-8b2f-45a3-ebd1-47b1cc12e2d4"
      },
      "source": [
        "from sklearn.ensemble import RandomForestClassifier\n",
        "clf = RandomForestClassifier(n_estimators = 50)\n",
        "clf.fit(x_train, y_train)"
      ],
      "execution_count": 15,
      "outputs": [
        {
          "output_type": "execute_result",
          "data": {
            "text/plain": [
              "RandomForestClassifier(bootstrap=True, ccp_alpha=0.0, class_weight=None,\n",
              "                       criterion='gini', max_depth=None, max_features='auto',\n",
              "                       max_leaf_nodes=None, max_samples=None,\n",
              "                       min_impurity_decrease=0.0, min_impurity_split=None,\n",
              "                       min_samples_leaf=1, min_samples_split=2,\n",
              "                       min_weight_fraction_leaf=0.0, n_estimators=50,\n",
              "                       n_jobs=None, oob_score=False, random_state=None,\n",
              "                       verbose=0, warm_start=False)"
            ]
          },
          "metadata": {
            "tags": []
          },
          "execution_count": 15
        }
      ]
    },
    {
      "cell_type": "code",
      "metadata": {
        "id": "bE0AQhxfCwtD"
      },
      "source": [
        "y_pred = model.predict(x_test)"
      ],
      "execution_count": 16,
      "outputs": []
    },
    {
      "cell_type": "code",
      "metadata": {
        "id": "AJLSCXhJHiod"
      },
      "source": [
        "y_pred1 = clf.predict(x_test)"
      ],
      "execution_count": 17,
      "outputs": []
    },
    {
      "cell_type": "code",
      "metadata": {
        "colab": {
          "base_uri": "https://localhost:8080/"
        },
        "id": "oIXiD00PGCyv",
        "outputId": "d426d207-d403-49d4-8a83-64d9db1f09f2"
      },
      "source": [
        "y_pred"
      ],
      "execution_count": 18,
      "outputs": [
        {
          "output_type": "execute_result",
          "data": {
            "text/plain": [
              "array([14,  3,  3, ..., 12, 13,  2])"
            ]
          },
          "metadata": {
            "tags": []
          },
          "execution_count": 18
        }
      ]
    },
    {
      "cell_type": "code",
      "metadata": {
        "colab": {
          "base_uri": "https://localhost:8080/"
        },
        "id": "Zekvxsj_Holb",
        "outputId": "14446ce6-b5f6-4454-e4cc-5151912f49e2"
      },
      "source": [
        "y_pred1"
      ],
      "execution_count": 19,
      "outputs": [
        {
          "output_type": "execute_result",
          "data": {
            "text/plain": [
              "array([14,  3,  3, ..., 12, 13, 13])"
            ]
          },
          "metadata": {
            "tags": []
          },
          "execution_count": 19
        }
      ]
    },
    {
      "cell_type": "code",
      "metadata": {
        "colab": {
          "base_uri": "https://localhost:8080/"
        },
        "id": "GKIjmwUxGFj_",
        "outputId": "bfc8e231-6339-43a0-a24c-d775b3c0e1ce"
      },
      "source": [
        "y_test"
      ],
      "execution_count": 20,
      "outputs": [
        {
          "output_type": "execute_result",
          "data": {
            "text/plain": [
              "array([14,  3,  3, ..., 12, 13,  2])"
            ]
          },
          "metadata": {
            "tags": []
          },
          "execution_count": 20
        }
      ]
    },
    {
      "cell_type": "code",
      "metadata": {
        "id": "TdIKLhopGHPf"
      },
      "source": [
        "from sklearn.metrics import accuracy_score, confusion_matrix, classification_report\n",
        "ac = accuracy_score(y_test,y_pred)\n",
        "cm = confusion_matrix(y_test,y_pred)"
      ],
      "execution_count": 21,
      "outputs": []
    },
    {
      "cell_type": "code",
      "metadata": {
        "colab": {
          "base_uri": "https://localhost:8080/"
        },
        "id": "wv3KyTPzIfpv",
        "outputId": "d3dbacd3-7e2a-492d-b5ca-0cacadb4187a"
      },
      "source": [
        "ac1 = accuracy_score(y_test,y_pred1)\n",
        "ac1"
      ],
      "execution_count": 22,
      "outputs": [
        {
          "output_type": "execute_result",
          "data": {
            "text/plain": [
              "0.9221470019342359"
            ]
          },
          "metadata": {
            "tags": []
          },
          "execution_count": 22
        }
      ]
    },
    {
      "cell_type": "code",
      "metadata": {
        "colab": {
          "base_uri": "https://localhost:8080/"
        },
        "id": "krUJCTxcGj1i",
        "outputId": "cdfa95bc-a597-4c2b-b293-9c2b00ac70c7"
      },
      "source": [
        "ac"
      ],
      "execution_count": 23,
      "outputs": [
        {
          "output_type": "execute_result",
          "data": {
            "text/plain": [
              "0.9738878143133463"
            ]
          },
          "metadata": {
            "tags": []
          },
          "execution_count": 23
        }
      ]
    },
    {
      "cell_type": "code",
      "metadata": {
        "colab": {
          "base_uri": "https://localhost:8080/"
        },
        "id": "VkKpTHPaGmCO",
        "outputId": "c9fcbe4f-a84c-46ed-c8ec-bf58640e74d5"
      },
      "source": [
        "cm"
      ],
      "execution_count": 24,
      "outputs": [
        {
          "output_type": "execute_result",
          "data": {
            "text/plain": [
              "array([[ 93,   0,   0,   3,   0,   0,   0,   0,   0,   0,   2,   0,   0,\n",
              "          0,   0,   0,   0],\n",
              "       [  0,  79,   0,   1,   1,   0,   0,   0,   0,   0,   0,   1,   0,\n",
              "          0,   2,   0,   0],\n",
              "       [  0,   0, 109,   3,   0,   0,   0,   0,   0,   0,   0,   0,   0,\n",
              "          1,   0,   0,   0],\n",
              "       [  0,   0,   0, 256,   0,   1,   0,   0,   1,   0,   0,   0,   0,\n",
              "          0,   0,   0,   0],\n",
              "       [  0,   0,   0,   1, 184,   0,   0,   0,   1,   0,   0,   0,   0,\n",
              "          0,   0,   0,   0],\n",
              "       [  0,   0,   0,   1,   0,  97,   0,   0,   0,   0,   0,   0,   0,\n",
              "          0,   0,   0,   0],\n",
              "       [  0,   0,   0,   0,   0,   0,  72,   0,   0,   0,   1,   0,   0,\n",
              "          0,   0,   0,   0],\n",
              "       [  0,   0,   0,   0,   0,   0,   0,  13,   0,   0,   0,   0,   0,\n",
              "          0,   0,   0,   0],\n",
              "       [  0,   0,   1,   1,   0,   0,   0,   0, 118,   0,   0,   0,   0,\n",
              "          0,   0,   0,   0],\n",
              "       [  0,   0,   0,   3,   0,   0,   0,   0,   0,  60,   0,   0,   0,\n",
              "          0,   0,   0,   0],\n",
              "       [  0,   0,   0,   2,   0,   0,   0,   0,   0,   0, 107,   0,   0,\n",
              "          0,   0,   0,   0],\n",
              "       [  0,   0,   0,   4,   0,   0,   0,   0,   0,   0,   0, 163,   0,\n",
              "          1,   0,   0,   0],\n",
              "       [  0,   0,   0,   3,   0,   0,   0,   0,   0,   0,   0,   0, 155,\n",
              "          1,   0,   0,   0],\n",
              "       [  0,   0,   0,   1,   1,   0,   0,   0,   0,   0,   0,   2,   0,\n",
              "        170,   0,   0,   0],\n",
              "       [  0,   0,   1,   2,   0,   0,   0,   0,   0,   0,   0,   0,   0,\n",
              "          0, 142,   0,   0],\n",
              "       [  0,   0,   0,   4,   0,   0,   0,   0,   0,   0,   0,   0,   0,\n",
              "          0,   0,  96,   0],\n",
              "       [  0,   0,   0,   3,   3,   0,   0,   0,   0,   0,   0,   0,   0,\n",
              "          1,   0,   0, 100]])"
            ]
          },
          "metadata": {
            "tags": []
          },
          "execution_count": 24
        }
      ]
    },
    {
      "cell_type": "code",
      "metadata": {
        "id": "nsrlA_qEGnyf"
      },
      "source": [
        "def predict(text):\n",
        "  x = cv.transform([text]).toarray()\n",
        "  lang = model.predict(x)\n",
        "  lang = le.inverse_transform(lang)\n",
        "  print(lang[0])"
      ],
      "execution_count": 25,
      "outputs": []
    },
    {
      "cell_type": "code",
      "metadata": {
        "colab": {
          "base_uri": "https://localhost:8080/"
        },
        "id": "tSTSTi9JJaaO",
        "outputId": "818dc77f-aab9-4570-9216-111d6229e8e0"
      },
      "source": [
        "keyword = input(\"Enter the sentence : \") \n",
        "predict(str(keyword))"
      ],
      "execution_count": 26,
      "outputs": [
        {
          "output_type": "stream",
          "text": [
            "Enter the sentence : \"Analytics Vidhya - это портал знаний на базе сообщества для профессионалов в области аналитики и данных.\"\n",
            "Russian\n"
          ],
          "name": "stdout"
        }
      ]
    },
    {
      "cell_type": "code",
      "metadata": {
        "colab": {
          "base_uri": "https://localhost:8080/"
        },
        "id": "5Lkdf6jMJhYm",
        "outputId": "16950cb7-6ce3-43f0-f4d9-e328cffe506c"
      },
      "source": [
        "predict(\"അനലിറ്റിക്സ്, ഡാറ്റാ സയൻസ് പ്രൊഫഷണലുകൾക്കായി കമ്മ്യൂണിറ്റി അധിഷ്ഠിത വിജ്ഞാന പോർട്ടൽ അനലിറ്റിക്സ് വിദ്യ നൽകുന്നു\")"
      ],
      "execution_count": null,
      "outputs": [
        {
          "output_type": "stream",
          "text": [
            "Malayalam\n"
          ],
          "name": "stdout"
        }
      ]
    },
    {
      "cell_type": "code",
      "metadata": {
        "colab": {
          "base_uri": "https://localhost:8080/"
        },
        "id": "bEG4Zy9AJsVy",
        "outputId": "ec4bafa1-2242-416c-d937-0b5901b8ba49"
      },
      "source": [
        "predict(\"समझे कि नहीं\")"
      ],
      "execution_count": null,
      "outputs": [
        {
          "output_type": "stream",
          "text": [
            "Hindi\n"
          ],
          "name": "stdout"
        }
      ]
    },
    {
      "cell_type": "code",
      "metadata": {
        "id": "GILn3LFNKzuW",
        "colab": {
          "base_uri": "https://localhost:8080/"
        },
        "outputId": "b8d3494b-be39-44f0-ee16-162eea98e5ee"
      },
      "source": [
        "predict(\"la casa de papal\")"
      ],
      "execution_count": null,
      "outputs": [
        {
          "output_type": "stream",
          "text": [
            "Spanish\n"
          ],
          "name": "stdout"
        }
      ]
    },
    {
      "cell_type": "code",
      "metadata": {
        "id": "yfiO8pEBAPj4"
      },
      "source": [
        ""
      ],
      "execution_count": null,
      "outputs": []
    }
  ]
}